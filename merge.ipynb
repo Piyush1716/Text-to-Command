{
 "cells": [
  {
   "cell_type": "code",
   "execution_count": 81,
   "id": "6ba043ed-1ee9-4489-96b4-707754ed96fb",
   "metadata": {},
   "outputs": [],
   "source": [
    "import pandas as pd\n",
    "import numpy as np"
   ]
  },
  {
   "cell_type": "code",
   "execution_count": 82,
   "id": "ddceaf2f-a8d0-4ce1-b3ac-23c6a5673bdf",
   "metadata": {},
   "outputs": [],
   "source": [
    "c = pd.read_csv('c.csv')"
   ]
  },
  {
   "cell_type": "code",
   "execution_count": 77,
   "id": "71ec34a6-fe6e-4c15-bfa8-6fef518de7ca",
   "metadata": {},
   "outputs": [
    {
     "name": "stdout",
     "output_type": "stream",
     "text": [
      "CSV files combined: ['.\\\\gem_100_200.csv', '.\\\\gem_1_30.csv', '.\\\\gem_200_210.csv', '.\\\\gem_210_250.csv', '.\\\\gem_250_260.csv', '.\\\\gem_260_300.csv', '.\\\\gem_300_350.csv', '.\\\\gem_30_60.csv', '.\\\\gem_350_400.csv', '.\\\\gem_400_450.csv', '.\\\\gem_450_500.csv', '.\\\\gem_500_600.csv', '.\\\\gem_60_100.csv']\n"
     ]
    }
   ],
   "source": [
    "import pandas as pd\n",
    "import glob\n",
    "import os\n",
    "\n",
    "# Folder containing your CSV files\n",
    "folder_path = \"./\"   # change this if needed\n",
    "\n",
    "# Find all CSV files starting with \"gem\"\n",
    "csv_files = glob.glob(os.path.join(folder_path, \"gem*.csv\"))\n",
    "\n",
    "# Read and combine into a single DataFrame\n",
    "df_list = [pd.read_csv(file) for file in csv_files]\n",
    "df = pd.concat(df_list, ignore_index=True)\n",
    "\n",
    "print(\"CSV files combined:\", csv_files)\n",
    "# print(combined_df.head())\n"
   ]
  },
  {
   "cell_type": "code",
   "execution_count": 12,
   "id": "32403017-02e3-445a-99d5-1c2cd1f10f7b",
   "metadata": {},
   "outputs": [
    {
     "data": {
      "text/plain": [
       "count\n",
       "12    571\n",
       "24     21\n",
       "36      1\n",
       "Name: count, dtype: int64"
      ]
     },
     "execution_count": 12,
     "metadata": {},
     "output_type": "execute_result"
    }
   ],
   "source": [
    "df['command'].value_counts().value_counts()"
   ]
  },
  {
   "cell_type": "code",
   "execution_count": 15,
   "id": "e89e8b63-3168-442b-a25c-b936179b94b8",
   "metadata": {},
   "outputs": [
    {
     "data": {
      "text/plain": [
       "np.int64(596)"
      ]
     },
     "execution_count": 15,
     "metadata": {},
     "output_type": "execute_result"
    }
   ],
   "source": [
    "c['command'].isin(df['command']).sum()"
   ]
  },
  {
   "cell_type": "code",
   "execution_count": 20,
   "id": "d7e7fcd9-c3dc-43b8-9487-e79d0e5c03fd",
   "metadata": {},
   "outputs": [
    {
     "data": {
      "text/plain": [
       "53              whoami\n",
       "464       htop -u user\n",
       "524    vim -R file.txt\n",
       "Name: command, dtype: object"
      ]
     },
     "execution_count": 20,
     "metadata": {},
     "output_type": "execute_result"
    }
   ],
   "source": [
    "c['command'][c.command.duplicated()]"
   ]
  },
  {
   "cell_type": "code",
   "execution_count": 21,
   "id": "7f82ae04-3a5e-44b6-8d7e-e2789a78c4de",
   "metadata": {},
   "outputs": [
    {
     "data": {
      "text/plain": [
       "command\n",
       "ifconfig eth0 down                12\n",
       "rm -r dir1                        12\n",
       "touch -t 202505211200 file.txt    12\n",
       "mkdir newdir                      12\n",
       "less +F logfile.txt               12\n",
       "                                  ..\n",
       "apt clean                         24\n",
       "htop -d 5                         24\n",
       "chown :group file.txt             24\n",
       "chmod -R 750 /data                24\n",
       "vim -R file.txt                   36\n",
       "Name: count, Length: 593, dtype: int64"
      ]
     },
     "execution_count": 21,
     "metadata": {},
     "output_type": "execute_result"
    }
   ],
   "source": [
    "df['command'].value_counts().sort_values()"
   ]
  },
  {
   "cell_type": "code",
   "execution_count": 22,
   "id": "be3428f2-4fde-499a-b18e-cbbe90585c7d",
   "metadata": {},
   "outputs": [
    {
     "data": {
      "text/html": [
       "<div>\n",
       "<style scoped>\n",
       "    .dataframe tbody tr th:only-of-type {\n",
       "        vertical-align: middle;\n",
       "    }\n",
       "\n",
       "    .dataframe tbody tr th {\n",
       "        vertical-align: top;\n",
       "    }\n",
       "\n",
       "    .dataframe thead th {\n",
       "        text-align: right;\n",
       "    }\n",
       "</style>\n",
       "<table border=\"1\" class=\"dataframe\">\n",
       "  <thead>\n",
       "    <tr style=\"text-align: right;\">\n",
       "      <th></th>\n",
       "      <th>user_query</th>\n",
       "      <th>command</th>\n",
       "      <th>description</th>\n",
       "    </tr>\n",
       "  </thead>\n",
       "  <tbody>\n",
       "    <tr>\n",
       "      <th>0</th>\n",
       "      <td>How do I run `htop` so it refreshes every 0.5 ...</td>\n",
       "      <td>htop -d 5</td>\n",
       "      <td>Runs htop with a 0.5-second refresh interval.</td>\n",
       "    </tr>\n",
       "    <tr>\n",
       "      <th>1</th>\n",
       "      <td>What's the command to start `htop` with a half...</td>\n",
       "      <td>htop -d 5</td>\n",
       "      <td>Runs htop with a 0.5-second refresh interval.</td>\n",
       "    </tr>\n",
       "    <tr>\n",
       "      <th>2</th>\n",
       "      <td>Could you give me the command to launch `htop`...</td>\n",
       "      <td>htop -d 5</td>\n",
       "      <td>Runs htop with a 0.5-second refresh interval.</td>\n",
       "    </tr>\n",
       "    <tr>\n",
       "      <th>3</th>\n",
       "      <td>I need to execute `htop` with a 0.5-second del...</td>\n",
       "      <td>htop -d 5</td>\n",
       "      <td>Runs htop with a 0.5-second refresh interval.</td>\n",
       "    </tr>\n",
       "    <tr>\n",
       "      <th>4</th>\n",
       "      <td>How can I get `htop` to refresh twice a second?</td>\n",
       "      <td>htop -d 5</td>\n",
       "      <td>Runs htop with a 0.5-second refresh interval.</td>\n",
       "    </tr>\n",
       "    <tr>\n",
       "      <th>...</th>\n",
       "      <td>...</td>\n",
       "      <td>...</td>\n",
       "      <td>...</td>\n",
       "    </tr>\n",
       "    <tr>\n",
       "      <th>7387</th>\n",
       "      <td>Initiate two pings to the IP address</td>\n",
       "      <td>ping -c 2 192.168.1.1</td>\n",
       "      <td>Sends 2 ICMP echo requests to the IP 192.168.1.1.</td>\n",
       "    </tr>\n",
       "    <tr>\n",
       "      <th>7388</th>\n",
       "      <td>Show me the command to send two ping requests to</td>\n",
       "      <td>ping -c 2 192.168.1.1</td>\n",
       "      <td>Sends 2 ICMP echo requests to the IP 192.168.1.1.</td>\n",
       "    </tr>\n",
       "    <tr>\n",
       "      <th>7389</th>\n",
       "      <td>I want to confirm if 192.168.1.1 is reachable....</td>\n",
       "      <td>ping -c 2 192.168.1.1</td>\n",
       "      <td>Sends 2 ICMP echo requests to the IP 192.168.1.1.</td>\n",
       "    </tr>\n",
       "    <tr>\n",
       "      <th>7390</th>\n",
       "      <td>Perform a `ping` to 192.168.1.1, limit it to t...</td>\n",
       "      <td>ping -c 2 192.168.1.1</td>\n",
       "      <td>Sends 2 ICMP echo requests to the IP 192.168.1.1.</td>\n",
       "    </tr>\n",
       "    <tr>\n",
       "      <th>7391</th>\n",
       "      <td>Go ahead and ping 192.168.1.1 twice</td>\n",
       "      <td>ping -c 2 192.168.1.1</td>\n",
       "      <td>Sends 2 ICMP echo requests to the IP 192.168.1.1.</td>\n",
       "    </tr>\n",
       "  </tbody>\n",
       "</table>\n",
       "<p>7392 rows × 3 columns</p>\n",
       "</div>"
      ],
      "text/plain": [
       "                                             user_query  \\\n",
       "0     How do I run `htop` so it refreshes every 0.5 ...   \n",
       "1     What's the command to start `htop` with a half...   \n",
       "2     Could you give me the command to launch `htop`...   \n",
       "3     I need to execute `htop` with a 0.5-second del...   \n",
       "4       How can I get `htop` to refresh twice a second?   \n",
       "...                                                 ...   \n",
       "7387               Initiate two pings to the IP address   \n",
       "7388   Show me the command to send two ping requests to   \n",
       "7389  I want to confirm if 192.168.1.1 is reachable....   \n",
       "7390  Perform a `ping` to 192.168.1.1, limit it to t...   \n",
       "7391                Go ahead and ping 192.168.1.1 twice   \n",
       "\n",
       "                    command                                        description  \n",
       "0                 htop -d 5      Runs htop with a 0.5-second refresh interval.  \n",
       "1                 htop -d 5      Runs htop with a 0.5-second refresh interval.  \n",
       "2                 htop -d 5      Runs htop with a 0.5-second refresh interval.  \n",
       "3                 htop -d 5      Runs htop with a 0.5-second refresh interval.  \n",
       "4                 htop -d 5      Runs htop with a 0.5-second refresh interval.  \n",
       "...                     ...                                                ...  \n",
       "7387  ping -c 2 192.168.1.1  Sends 2 ICMP echo requests to the IP 192.168.1.1.  \n",
       "7388  ping -c 2 192.168.1.1  Sends 2 ICMP echo requests to the IP 192.168.1.1.  \n",
       "7389  ping -c 2 192.168.1.1  Sends 2 ICMP echo requests to the IP 192.168.1.1.  \n",
       "7390  ping -c 2 192.168.1.1  Sends 2 ICMP echo requests to the IP 192.168.1.1.  \n",
       "7391  ping -c 2 192.168.1.1  Sends 2 ICMP echo requests to the IP 192.168.1.1.  \n",
       "\n",
       "[7392 rows x 3 columns]"
      ]
     },
     "execution_count": 22,
     "metadata": {},
     "output_type": "execute_result"
    }
   ],
   "source": [
    "df"
   ]
  },
  {
   "cell_type": "code",
   "execution_count": 25,
   "id": "0fd61b56-3888-42c9-8d0a-2f38d66f32c0",
   "metadata": {},
   "outputs": [
    {
     "data": {
      "text/html": [
       "<div>\n",
       "<style scoped>\n",
       "    .dataframe tbody tr th:only-of-type {\n",
       "        vertical-align: middle;\n",
       "    }\n",
       "\n",
       "    .dataframe tbody tr th {\n",
       "        vertical-align: top;\n",
       "    }\n",
       "\n",
       "    .dataframe thead th {\n",
       "        text-align: right;\n",
       "    }\n",
       "</style>\n",
       "<table border=\"1\" class=\"dataframe\">\n",
       "  <thead>\n",
       "    <tr style=\"text-align: right;\">\n",
       "      <th></th>\n",
       "      <th>user_query</th>\n",
       "      <th>command</th>\n",
       "      <th>description</th>\n",
       "    </tr>\n",
       "  </thead>\n",
       "  <tbody>\n",
       "    <tr>\n",
       "      <th>7189</th>\n",
       "      <td>Go into the /etc directory</td>\n",
       "      <td>cd /etc</td>\n",
       "      <td>Changes the current directory to /etc.</td>\n",
       "    </tr>\n",
       "    <tr>\n",
       "      <th>7190</th>\n",
       "      <td>Navigate to /etc</td>\n",
       "      <td>cd /etc</td>\n",
       "      <td>Changes the current directory to /etc.</td>\n",
       "    </tr>\n",
       "    <tr>\n",
       "      <th>7192</th>\n",
       "      <td>I need to be in /etc</td>\n",
       "      <td>cd /etc</td>\n",
       "      <td>Changes the current directory to /etc.</td>\n",
       "    </tr>\n",
       "    <tr>\n",
       "      <th>7193</th>\n",
       "      <td>Take me to /etc</td>\n",
       "      <td>cd /etc</td>\n",
       "      <td>Changes the current directory to /etc.</td>\n",
       "    </tr>\n",
       "    <tr>\n",
       "      <th>7368</th>\n",
       "      <td>Please run `dnf autoremove`</td>\n",
       "      <td>dnf autoremove</td>\n",
       "      <td>Removes unused dependencies on Fedora-based sy...</td>\n",
       "    </tr>\n",
       "  </tbody>\n",
       "</table>\n",
       "</div>"
      ],
      "text/plain": [
       "                       user_query         command  \\\n",
       "7189   Go into the /etc directory         cd /etc   \n",
       "7190             Navigate to /etc         cd /etc   \n",
       "7192         I need to be in /etc         cd /etc   \n",
       "7193              Take me to /etc         cd /etc   \n",
       "7368  Please run `dnf autoremove`  dnf autoremove   \n",
       "\n",
       "                                            description  \n",
       "7189             Changes the current directory to /etc.  \n",
       "7190             Changes the current directory to /etc.  \n",
       "7192             Changes the current directory to /etc.  \n",
       "7193             Changes the current directory to /etc.  \n",
       "7368  Removes unused dependencies on Fedora-based sy...  "
      ]
     },
     "execution_count": 25,
     "metadata": {},
     "output_type": "execute_result"
    }
   ],
   "source": [
    "df[df.duplicated()]"
   ]
  },
  {
   "cell_type": "code",
   "execution_count": 27,
   "id": "3024599d-fe6f-4c2b-9c40-eb6e60e9cedd",
   "metadata": {},
   "outputs": [
    {
     "data": {
      "text/html": [
       "<div>\n",
       "<style scoped>\n",
       "    .dataframe tbody tr th:only-of-type {\n",
       "        vertical-align: middle;\n",
       "    }\n",
       "\n",
       "    .dataframe tbody tr th {\n",
       "        vertical-align: top;\n",
       "    }\n",
       "\n",
       "    .dataframe thead th {\n",
       "        text-align: right;\n",
       "    }\n",
       "</style>\n",
       "<table border=\"1\" class=\"dataframe\">\n",
       "  <thead>\n",
       "    <tr style=\"text-align: right;\">\n",
       "      <th></th>\n",
       "      <th>user_query</th>\n",
       "      <th>command</th>\n",
       "      <th>description</th>\n",
       "    </tr>\n",
       "  </thead>\n",
       "  <tbody>\n",
       "    <tr>\n",
       "      <th>4211</th>\n",
       "      <td>Please show me all the entries in user's crontab</td>\n",
       "      <td>crontab -u user -l</td>\n",
       "      <td>Lists cron jobs for user.</td>\n",
       "    </tr>\n",
       "    <tr>\n",
       "      <th>3534</th>\n",
       "      <td>I need to see the RAM statistics; make sure th...</td>\n",
       "      <td>free -h</td>\n",
       "      <td>Displays memory usage in human-readable format.</td>\n",
       "    </tr>\n",
       "    <tr>\n",
       "      <th>4079</th>\n",
       "      <td>Give me the nftables firewall rule list</td>\n",
       "      <td>nft list ruleset</td>\n",
       "      <td>Displays all active nftables firewall rules.</td>\n",
       "    </tr>\n",
       "    <tr>\n",
       "      <th>5718</th>\n",
       "      <td>Output the text of `file.txt.zst`</td>\n",
       "      <td>zstdcat file.txt.zst</td>\n",
       "      <td>Displays the contents of a Zstandard-compresse...</td>\n",
       "    </tr>\n",
       "    <tr>\n",
       "      <th>5976</th>\n",
       "      <td>lslocks</td>\n",
       "      <td>lslocks</td>\n",
       "      <td>Lists file locks held by processes.</td>\n",
       "    </tr>\n",
       "    <tr>\n",
       "      <th>5325</th>\n",
       "      <td>How would I do an `e2fsck` check on `/dev/sda1...</td>\n",
       "      <td>e2fsck -n /dev/sda1</td>\n",
       "      <td>Checks the ext2/ext3/ext4 filesystem on /dev/s...</td>\n",
       "    </tr>\n",
       "    <tr>\n",
       "      <th>1508</th>\n",
       "      <td>Tell me the command for finding out who I am</td>\n",
       "      <td>whoami</td>\n",
       "      <td>Displays the current user's username.</td>\n",
       "    </tr>\n",
       "    <tr>\n",
       "      <th>2430</th>\n",
       "      <td>I want to change the group for `/data` and all...</td>\n",
       "      <td>chgrp -R group /data</td>\n",
       "      <td>Recursively changes group ownership of /data t...</td>\n",
       "    </tr>\n",
       "    <tr>\n",
       "      <th>3299</th>\n",
       "      <td>Calculate the byte count of `file.txt` for me</td>\n",
       "      <td>wc -c file.txt</td>\n",
       "      <td>Counts the number of bytes in file.txt.</td>\n",
       "    </tr>\n",
       "    <tr>\n",
       "      <th>5807</th>\n",
       "      <td>Launch Vim with `file.txt` open, in read-only ...</td>\n",
       "      <td>vim -R file.txt</td>\n",
       "      <td>Opens file.txt in Vim in read-only mode.</td>\n",
       "    </tr>\n",
       "  </tbody>\n",
       "</table>\n",
       "</div>"
      ],
      "text/plain": [
       "                                             user_query               command  \\\n",
       "4211   Please show me all the entries in user's crontab    crontab -u user -l   \n",
       "3534  I need to see the RAM statistics; make sure th...               free -h   \n",
       "4079            Give me the nftables firewall rule list      nft list ruleset   \n",
       "5718                  Output the text of `file.txt.zst`  zstdcat file.txt.zst   \n",
       "5976                                            lslocks               lslocks   \n",
       "5325  How would I do an `e2fsck` check on `/dev/sda1...   e2fsck -n /dev/sda1   \n",
       "1508       Tell me the command for finding out who I am                whoami   \n",
       "2430  I want to change the group for `/data` and all...  chgrp -R group /data   \n",
       "3299      Calculate the byte count of `file.txt` for me        wc -c file.txt   \n",
       "5807  Launch Vim with `file.txt` open, in read-only ...       vim -R file.txt   \n",
       "\n",
       "                                            description  \n",
       "4211                          Lists cron jobs for user.  \n",
       "3534    Displays memory usage in human-readable format.  \n",
       "4079       Displays all active nftables firewall rules.  \n",
       "5718  Displays the contents of a Zstandard-compresse...  \n",
       "5976                Lists file locks held by processes.  \n",
       "5325  Checks the ext2/ext3/ext4 filesystem on /dev/s...  \n",
       "1508              Displays the current user's username.  \n",
       "2430  Recursively changes group ownership of /data t...  \n",
       "3299            Counts the number of bytes in file.txt.  \n",
       "5807           Opens file.txt in Vim in read-only mode.  "
      ]
     },
     "execution_count": 27,
     "metadata": {},
     "output_type": "execute_result"
    }
   ],
   "source": [
    "df.sample(10)"
   ]
  },
  {
   "cell_type": "code",
   "execution_count": 39,
   "id": "84564d9d-8789-4392-a387-46a3d6186e5f",
   "metadata": {},
   "outputs": [
    {
     "data": {
      "text/plain": [
       "600"
      ]
     },
     "execution_count": 39,
     "metadata": {},
     "output_type": "execute_result"
    }
   ],
   "source": [
    "c.command.values.size"
   ]
  },
  {
   "cell_type": "code",
   "execution_count": 51,
   "id": "5c44aeaf-9d4e-4491-8dd7-26970dd3e4c1",
   "metadata": {},
   "outputs": [
    {
     "data": {
      "text/plain": [
       "(0                 htop -d 5\n",
       " 12          vim -R file.txt\n",
       " 24      nano -c config.conf\n",
       " 36                  cd /etc\n",
       " 48                    ls -1\n",
       "                ...         \n",
       " 7092                    who\n",
       " 7104         passwd newuser\n",
       " 7116    userdel -r testuser\n",
       " 7128            ps -C nginx\n",
       " 7140          killall nginx\n",
       " Name: command, Length: 593, dtype: object,\n",
       " 0                                     cd /var/log\n",
       " 1                                             pwd\n",
       " 2                                          ls -la\n",
       " 3                             cp file.txt /backup\n",
       " 4                      mv oldname.txt newname.txt\n",
       "                           ...                    \n",
       " 595                              swapon /dev/sdb1\n",
       " 596                             swapoff /dev/sdb1\n",
       " 597                 cryptsetup luksDump /dev/sdb1\n",
       " 598    aa-complain /etc/apparmor.d/usr.sbin.nginx\n",
       " 599     aa-enforce /etc/apparmor.d/usr.sbin.nginx\n",
       " Name: command, Length: 600, dtype: object)"
      ]
     },
     "execution_count": 51,
     "metadata": {},
     "output_type": "execute_result"
    }
   ],
   "source": [
    "s1 = df['command'].drop_duplicates()\n",
    "s2 = c['command']\n",
    "s1,s2"
   ]
  },
  {
   "cell_type": "code",
   "execution_count": 54,
   "id": "b23d9747-1fd1-42f5-aef3-58145b2bdab7",
   "metadata": {},
   "outputs": [
    {
     "data": {
      "text/plain": [
       "51             ifconfig eth0\n",
       "78         cat > newfile.txt\n",
       "92    ping -i 0.5 google.com\n",
       "93          ifconfig eth0 up\n",
       "Name: command, dtype: object"
      ]
     },
     "execution_count": 54,
     "metadata": {},
     "output_type": "execute_result"
    }
   ],
   "source": [
    "s2[~s2.isin(s1)]"
   ]
  },
  {
   "cell_type": "code",
   "execution_count": 65,
   "id": "7e4377bc-f112-43dc-b62e-8da9565dd897",
   "metadata": {},
   "outputs": [
    {
     "data": {
      "text/plain": [
       "np.int64(0)"
      ]
     },
     "execution_count": 65,
     "metadata": {},
     "output_type": "execute_result"
    }
   ],
   "source": [
    "df[df['command'] == 'ping -c 2 192.168.1.1'].duplicated().sum()"
   ]
  },
  {
   "cell_type": "code",
   "execution_count": 68,
   "id": "85635c08-0573-4ff7-9886-9126c8e4dcd4",
   "metadata": {},
   "outputs": [
    {
     "data": {
      "text/html": [
       "<div>\n",
       "<style scoped>\n",
       "    .dataframe tbody tr th:only-of-type {\n",
       "        vertical-align: middle;\n",
       "    }\n",
       "\n",
       "    .dataframe tbody tr th {\n",
       "        vertical-align: top;\n",
       "    }\n",
       "\n",
       "    .dataframe thead th {\n",
       "        text-align: right;\n",
       "    }\n",
       "</style>\n",
       "<table border=\"1\" class=\"dataframe\">\n",
       "  <thead>\n",
       "    <tr style=\"text-align: right;\">\n",
       "      <th></th>\n",
       "      <th>user_query</th>\n",
       "      <th>command</th>\n",
       "      <th>description</th>\n",
       "    </tr>\n",
       "  </thead>\n",
       "  <tbody>\n",
       "    <tr>\n",
       "      <th>2416</th>\n",
       "      <td>What's the proper way to modify `file.txt`'s g...</td>\n",
       "      <td>chgrp group file.txt</td>\n",
       "      <td>Changes the group ownership of file.txt to group.</td>\n",
       "    </tr>\n",
       "    <tr>\n",
       "      <th>5076</th>\n",
       "      <td>Run `htop -u user`</td>\n",
       "      <td>htop -u user</td>\n",
       "      <td>Runs htop filtered to show only processes owne...</td>\n",
       "    </tr>\n",
       "    <tr>\n",
       "      <th>7189</th>\n",
       "      <td>Go into the /etc directory</td>\n",
       "      <td>cd /etc</td>\n",
       "      <td>Changes the current directory to /etc.</td>\n",
       "    </tr>\n",
       "    <tr>\n",
       "      <th>7190</th>\n",
       "      <td>Navigate to /etc</td>\n",
       "      <td>cd /etc</td>\n",
       "      <td>Changes the current directory to /etc.</td>\n",
       "    </tr>\n",
       "    <tr>\n",
       "      <th>7192</th>\n",
       "      <td>I need to be in /etc</td>\n",
       "      <td>cd /etc</td>\n",
       "      <td>Changes the current directory to /etc.</td>\n",
       "    </tr>\n",
       "    <tr>\n",
       "      <th>7193</th>\n",
       "      <td>Take me to /etc</td>\n",
       "      <td>cd /etc</td>\n",
       "      <td>Changes the current directory to /etc.</td>\n",
       "    </tr>\n",
       "    <tr>\n",
       "      <th>7332</th>\n",
       "      <td>How do I change the group ownership of `file.t...</td>\n",
       "      <td>chown :group file.txt</td>\n",
       "      <td>Changes group ownership of file.txt to group.</td>\n",
       "    </tr>\n",
       "    <tr>\n",
       "      <th>7368</th>\n",
       "      <td>Please run `dnf autoremove`</td>\n",
       "      <td>dnf autoremove</td>\n",
       "      <td>Removes unused dependencies on Fedora-based sy...</td>\n",
       "    </tr>\n",
       "  </tbody>\n",
       "</table>\n",
       "</div>"
      ],
      "text/plain": [
       "                                             user_query  \\\n",
       "2416  What's the proper way to modify `file.txt`'s g...   \n",
       "5076                                 Run `htop -u user`   \n",
       "7189                         Go into the /etc directory   \n",
       "7190                                   Navigate to /etc   \n",
       "7192                               I need to be in /etc   \n",
       "7193                                    Take me to /etc   \n",
       "7332  How do I change the group ownership of `file.t...   \n",
       "7368                        Please run `dnf autoremove`   \n",
       "\n",
       "                    command                                        description  \n",
       "2416   chgrp group file.txt  Changes the group ownership of file.txt to group.  \n",
       "5076           htop -u user  Runs htop filtered to show only processes owne...  \n",
       "7189                cd /etc             Changes the current directory to /etc.  \n",
       "7190                cd /etc             Changes the current directory to /etc.  \n",
       "7192                cd /etc             Changes the current directory to /etc.  \n",
       "7193                cd /etc             Changes the current directory to /etc.  \n",
       "7332  chown :group file.txt      Changes group ownership of file.txt to group.  \n",
       "7368         dnf autoremove  Removes unused dependencies on Fedora-based sy...  "
      ]
     },
     "execution_count": 68,
     "metadata": {},
     "output_type": "execute_result"
    }
   ],
   "source": [
    "df[df['user_query'].duplicated()]"
   ]
  },
  {
   "cell_type": "code",
   "execution_count": 78,
   "id": "45643f65-b1b8-49de-8a4e-6ca3d201df0e",
   "metadata": {},
   "outputs": [
    {
     "name": "stdout",
     "output_type": "stream",
     "text": [
      "<class 'pandas.core.frame.DataFrame'>\n",
      "RangeIndex: 7392 entries, 0 to 7391\n",
      "Data columns (total 3 columns):\n",
      " #   Column       Non-Null Count  Dtype \n",
      "---  ------       --------------  ----- \n",
      " 0   user_query   7392 non-null   object\n",
      " 1   command      7392 non-null   object\n",
      " 2   description  7392 non-null   object\n",
      "dtypes: object(3)\n",
      "memory usage: 173.4+ KB\n"
     ]
    }
   ],
   "source": [
    "df.info()"
   ]
  },
  {
   "cell_type": "code",
   "execution_count": 71,
   "id": "5cbc22fc-56b1-41d7-b69d-ba58e89ba042",
   "metadata": {},
   "outputs": [
    {
     "data": {
      "text/plain": [
       "np.int64(5)"
      ]
     },
     "execution_count": 71,
     "metadata": {},
     "output_type": "execute_result"
    }
   ],
   "source": [
    "df.duplicated().sum()"
   ]
  },
  {
   "cell_type": "code",
   "execution_count": 79,
   "id": "48b3e4cf-8f8e-4199-88fc-bae328a81965",
   "metadata": {},
   "outputs": [],
   "source": [
    "df.to_csv('all_merged.csv',index=False)"
   ]
  },
  {
   "cell_type": "code",
   "execution_count": 80,
   "id": "da83d7ef-ac04-492c-a34f-d2c8d33365e2",
   "metadata": {},
   "outputs": [],
   "source": [
    "df.drop_duplicates(inplace=True)\n",
    "df.to_csv('all_merged(no_dups).csv', index=False)"
   ]
  },
  {
   "cell_type": "code",
   "execution_count": 84,
   "id": "bed8297d-ab1f-4f3d-ac4e-b53db710103f",
   "metadata": {},
   "outputs": [
    {
     "data": {
      "text/plain": [
       "array(['cd /var/log', 'pwd', 'ls -la', 'cp file.txt /backup',\n",
       "       'mv oldname.txt newname.txt', 'rm -rf directory',\n",
       "       'touch newfile.txt', 'mkdir -p /path/to/newdir', 'cat logfile.txt',\n",
       "       'less largefile.txt', 'head -n 5 access.log',\n",
       "       'tail -n 10 error.log', 'uname -a', 'top', 'df -h', 'free -m',\n",
       "       'chmod 755 script.sh', 'chown user:group file.txt', 'apt update',\n",
       "       'apt install nginx', 'yum update', 'dnf install python3',\n",
       "       'ping -c 4 google.com', 'ifconfig', 'netstat -tulpn', 'whoami',\n",
       "       'id', 'adduser newuser', 'ps aux', 'kill -9 1234', 'htop',\n",
       "       'vim file.txt', 'nano config.conf', 'cd ~', 'ls -R',\n",
       "       'cp -r dir1 dir2', 'mv dir1 /archive', 'rm file.txt',\n",
       "       'cat file1.txt file2.txt', 'less -N logfile.txt',\n",
       "       'head access.log', 'tail -f error.log', 'uname -r', 'df /',\n",
       "       'free -h', 'chmod +x script.sh', 'chown -R user:group /data',\n",
       "       'apt upgrade', 'yum install httpd', 'dnf update', 'ping 8.8.8.8',\n",
       "       'ifconfig eth0', 'netstat -an', 'whoami', 'id newuser',\n",
       "       'adduser --home /home/testuser testuser', 'ps -ef', 'kill 1234',\n",
       "       'htop -u user', 'vim +10 file.txt', 'nano -l config.conf', 'cd ..',\n",
       "       'ls -lh', 'cp file.txt file.bak', 'mv file.txt /tmp',\n",
       "       'rm -i file.txt', 'cat -n script.sh', 'less +G logfile.txt',\n",
       "       'head -n 20 access.log', 'tail -n +2 error.log', 'cd -', 'ls -t',\n",
       "       'pwd -P', 'cp -p file.txt /backup', 'mv -i file.txt /tmp',\n",
       "       'rm -r dir1', 'touch -t 202505211200 file.txt', 'mkdir newdir',\n",
       "       'cat > newfile.txt', 'less +F logfile.txt', 'head -c 100 file.txt',\n",
       "       'tail -n 5 access.log', 'uname -m', 'top -n 1', 'df -T', 'free -t',\n",
       "       'chmod 644 file.txt', 'chown -h user symlink', 'apt autoremove',\n",
       "       'apt purge nginx', 'yum remove httpd', 'dnf upgrade',\n",
       "       'ping -i 0.5 google.com', 'ifconfig eth0 up', 'netstat -i', 'who',\n",
       "       'passwd newuser', 'userdel -r testuser', 'ps -C nginx',\n",
       "       'killall nginx', 'htop -d 5', 'vim -R file.txt',\n",
       "       'nano -c config.conf', 'cd /etc', 'ls -1',\n",
       "       'cp -u file.txt /backup', 'mv -n file.txt /tmp', 'rm -v file.txt',\n",
       "       'cat << EOF > script.sh', 'less -i logfile.txt',\n",
       "       'head -n -5 access.log', 'tail -q -n 3 file1.txt file2.txt',\n",
       "       'uname -n', 'df -i', 'chmod -R 750 /data', 'chown :group file.txt',\n",
       "       'apt clean', 'yum check-update', 'dnf autoremove',\n",
       "       'ping -c 2 192.168.1.1', 'ifconfig eth0 down', 'netstat -r', 'w',\n",
       "       'usermod -aG sudo newuser', 'groupadd newgroup', 'ps -u user',\n",
       "       'pkill -u user', 'htop -t', \"vim -c 'set number' file.txt\",\n",
       "       'nano -w config.conf', 'cd /usr/local/bin', 'ls -S',\n",
       "       'cp -v file.txt /backup', 'mv -u dir1 /archive',\n",
       "       'touch -a file.txt', 'cat -s file.txt', 'less -M logfile.txt',\n",
       "       'head -q -n 2 file1.txt file2.txt', 'tail -v -n 2 error.log',\n",
       "       'free -s 2', 'chmod u+x script.sh', 'chown -R user:group /var/www',\n",
       "       'apt list --installed', 'yum history', 'dnf provides /bin/bash',\n",
       "       'ping -s 100 google.com', 'netstat -s', 'last', 'ps -p 1234',\n",
       "       'vim -b file.bin', 'cd /tmp', 'ls -F', 'pwd -L', 'ls -X',\n",
       "       'cd /usr/share', 'ls --color=auto', 'ls -i', 'cd ~user', 'ls -r',\n",
       "       'ls -d */', 'cp -a dir1 /backup', 'mv -b file.txt /tmp',\n",
       "       'rm -f file.txt', 'touch -c file.txt', 'mkdir -m 700 secure_dir',\n",
       "       'cp -l file1.txt file2.txt', 'mv -f file.txt /tmp',\n",
       "       'rmdir empty_dir', 'touch -m file.txt', 'cp -s file1.txt link.txt',\n",
       "       'cat -b file.txt', 'less -S logfile.txt', 'head -v access.log',\n",
       "       'tail -c 100 error.log', 'cat -e file.txt', 'less -r logfile.txt',\n",
       "       'head -n 3 file1.txt file2.txt', 'tail -n 0 -f error.log',\n",
       "       'cat -t file.txt', 'less -u logfile.txt', 'uptime', 'vmstat 2 5',\n",
       "       'iostat -x 1 3', 'lscpu', 'lsblk', 'dmidecode -t memory',\n",
       "       'chmod g+w file.txt', 'chown user file.txt', 'chmod o-r file.txt',\n",
       "       'chown -R :group /data', 'apt search nginx', 'yum info httpd',\n",
       "       'dnf clean all', 'apt show python3',\n",
       "       \"yum groupinstall 'Development Tools'\",\n",
       "       'dnf repoquery --installed', 'apt depends nginx',\n",
       "       'yum provides /usr/bin/python3', 'dnf group list',\n",
       "       'apt policy nginx', 'ip addr show', 'ss -tulwn', 'arp -n',\n",
       "       'route -n', 'ip link show', 'ss -anp', 'traceroute google.com',\n",
       "       'who -b', \"usermod -c 'Full Name' user\", 'groupdel oldgroup',\n",
       "       'passwd -l user', 'chage -E 2025-12-31 user', 'finger user',\n",
       "       'nice -n 10 command', 'renice 5 1234', 'top -u user', 'pstree -p',\n",
       "       'kill -SIGTERM 1234', 'pgrep nginx', 'emacs file.txt',\n",
       "       'vim -o file1.txt file2.txt', 'nano -B config.conf',\n",
       "       'emacs -nw file.txt', 'lsblk -f', 'lscpu -e', 'vmstat -s',\n",
       "       'chmod g-x script.sh', 'chown -hR user symlink', 'ip route show',\n",
       "       'ss -tuln', 'ln -s /etc/config.conf link.conf',\n",
       "       'ln file1.txt file2.txt', 'cat -v file.txt', 'less -X logfile.txt',\n",
       "       'who -u', 'chage -l user', 'top -b -n 1', 'pkill -9 nginx',\n",
       "       'vim -O file1.txt file2.txt', 'nano -E config.conf',\n",
       "       'du -sh /var/log', \"find /var -name '*.log'\", 'lsmod', 'uname -o',\n",
       "       'chmod 600 file.txt', 'chown -v user file.txt',\n",
       "       'ip addr add 192.168.1.101/24 dev eth0', 'passwd -u user',\n",
       "       'kill -SIGKILL 1234', 'emacs --no-init-file file.txt',\n",
       "       'pushd /var/log', 'popd', 'dirs -v', 'lsattr file.txt',\n",
       "       'chattr +i file.txt', 'setfacl -m u:user:rw file.txt',\n",
       "       'getfacl file.txt', 'zcat logfile.gz', 'zless logfile.gz',\n",
       "       'od -c file.bin', 'strings /bin/ls', 'hexdump -C file.bin',\n",
       "       'stat file.txt', 'lsof -i :80', 'tcpdump -i eth0',\n",
       "       'nslookup google.com', 'dig google.com', 'ipcs -m', 'sar -u 1 3',\n",
       "       'dmesg -T', 'lsdev', 'chgrp group file.txt',\n",
       "       'chgrp -R group /data', 'setfacl -b file.txt', 'apt source nginx',\n",
       "       'yum reinstall httpd', 'dnf history list', \"logger 'Test message'\",\n",
       "       'who -r', \"chfn -f 'Full Name' user\", 'newgrp group',\n",
       "       'at now + 1 hour', 'crontab -l', 'nohup command &',\n",
       "       'journalctl -u nginx', 'file file.bin', 'mkfifo pipe',\n",
       "       'truncate -s 1M file.txt', 'split -b 1M largefile.txt',\n",
       "       'fmt -w 80 file.txt', 'nl file.txt', 'wc -l file.txt',\n",
       "       'tac file.txt', 'ethtool eth0', 'ipset list', 'iptables -L -v',\n",
       "       'ulimit -n 1024', 'semanage fcontext -l', 'restorecon -v /var/log',\n",
       "       'getsebool -a', \"watch -n 1 'date'\", 'time command', 'batch',\n",
       "       'disown -h %1', 'jobs -l', 'fg %1', 'vmstat -d',\n",
       "       'dmidecode -t bios', 'colrm 1 5 < file.txt', 'expand file.txt',\n",
       "       'unexpand file.txt', \"cut -d ',' -f 1 file.csv\", 'tee file.txt',\n",
       "       'shred -u file.txt', 'mknod /dev/mynode c 1 3',\n",
       "       'fuser -v /var/log/syslog', 'ltrace -p 1234', 'strace -p 1234',\n",
       "       'mtr google.com', 'nmap localhost', 'host google.com',\n",
       "       'chsh -s /bin/zsh user', 'id -Gn user', 'getent passwd user',\n",
       "       'pr -t file.txt', 'fold -w 80 file.txt', 'sort file.txt',\n",
       "       'uniq file.txt', 'comm file1.txt file2.txt', 'df -t ext4',\n",
       "       'free -w', 'lscpu -b', 'chcon -t httpd_sys_content_t /var/www',\n",
       "       'setsebool -P httpd_enable_homedirs on', 'chattr -i file.txt',\n",
       "       'install -m 755 script.sh /usr/local/bin', 'arping 192.168.1.1',\n",
       "       'ip neighbor show', 'atq', 'bg %1', 'nano +10 config.conf',\n",
       "       'vim -u NONE file.txt', 'emacs --batch -l script.el',\n",
       "       'wc -w file.txt', 'wc -c file.txt', 'paste file1.txt file2.txt',\n",
       "       'join file1.txt file2.txt', 'lsblk -o NAME,SIZE,TYPE', 'who -H',\n",
       "       'timeout 10s command', 'pushd +2', 'dirs -c',\n",
       "       'cd -P /path/to/symlink', 'findmnt -t ext4', 'lsns', 'sysctl -a',\n",
       "       'auditctl -l', 'ausearch -m LOGIN', 'blkid -o list', 'iotop -o',\n",
       "       'setfacl -R -m u:user:rx /data', 'setfacl -x u:user file.txt',\n",
       "       'chcon -R -t user_home_t /home/user', 'semanage user -l',\n",
       "       'getfattr -d file.txt',\n",
       "       \"setfattr -n user.comment -v 'Test' file.txt\",\n",
       "       'chattr +a file.txt', 'dump -f backup.tar /dev/sda1',\n",
       "       'restore -rf backup.tar',\n",
       "       \"xfs_quota -x -c 'limit bsoft=1g bhard=2g user' /mnt\",\n",
       "       'tar --acls --xattrs -cpf backup.tar /data',\n",
       "       'dd if=/dev/zero of=file.img bs=1M count=100',\n",
       "       'zcmp file1.gz file2.gz', 'zdiff file1.gz file2.gz',\n",
       "       'xxd -r -p hexdump.txt file.bin', 'base64 file.bin',\n",
       "       'base64 -d encoded.txt', 'od -t x4 file.bin', 'zmore logfile.gz',\n",
       "       'tcpdump -i eth0 port 80', 'nft list ruleset', 'iptraf-ng -i eth0',\n",
       "       'hping3 -S 192.168.1.1', 'netcat -zv 192.168.1.1 22',\n",
       "       'ipset create myset hash:ip', 'tshark -i eth0 -c 10',\n",
       "       'pwgen -s 16 1', 'addgroup --gid 2000 newgroup',\n",
       "       'usermod -e 2025-12-31 user', 'lastlog', 'faillog -u user',\n",
       "       'crontab -u user -l', 'systemctl status nginx', 'pidstat -w 1 3',\n",
       "       'lscgroup', 'ionice -c3 command', 'taskset -cp 0-3 1234',\n",
       "       'journalctl -b', 'parted -l', 'apt-file search /usr/bin/nginx',\n",
       "       'yum deplist httpd', 'dnf module list', 'xxd file.bin',\n",
       "       'rsync -av /src /dst', \"debugfs -R 'stat /file.txt' /dev/sda1\",\n",
       "       'fsck.ext4 -n /dev/sda1', 'inotifywait -m /var/log',\n",
       "       'lsof -p 1234', 'pmap -x 1234', 'netstat -s | grep Tcp',\n",
       "       'ip -s link', 'semanage port -l',\n",
       "       'auditctl -a always,exit -F path=/etc/passwd -F perm=wa',\n",
       "       'sysdig -c netstat', 'dstat -cdngy', 'fatrace',\n",
       "       'cryptsetup luksOpen /dev/sdb1 crypt', 'badblocks -v /dev/sdb',\n",
       "       'ltrace -S -p 1234', 'strace -c -p 1234', 'gdb --pid 1234',\n",
       "       'perf stat -p 1234', 'nmap -sV 192.168.1.1', 'etckeeper init',\n",
       "       \"etckeeper commit 'Updated config'\", 'who -T',\n",
       "       'useradd -m -s /bin/zsh newuser', 'getent group sudo', 'pwck',\n",
       "       'grpck', 'col -b < file.txt', 'tsort file.txt',\n",
       "       'look word file.txt', 'tee -a file.txt',\n",
       "       'split -l 1000 file.txt prefix-', \"csplit file.txt '/^#/' {*}\",\n",
       "       'systemctl cat nginx', 'logrotate -f /etc/logrotate.conf',\n",
       "       'lscpu -p', 'numactl --hardware', 'ipcs -s', 'ipcs -q',\n",
       "       'dmidecode -t processor', 'semanage login -l',\n",
       "       'semanage boolean -l', 'netcat -l 12345',\n",
       "       \"watch -d 'netstat -tuln'\",\n",
       "       'emacs --eval \\'(find-file \"file.txt\")\\'', 'vim -es -S script.vim',\n",
       "       'nano -T 4 config.conf', 'cd /proc/$$', 'dirs -p', 'pushd -n /tmp',\n",
       "       'cd /dev/shm', \"tree -if --noreport /etc | grep '.conf$'\", 'sync',\n",
       "       'fallocate -l 1G file.img', 'xfs_info /dev/sda1',\n",
       "       'mkfs.btrfs /dev/sdb1', 'btrfs filesystem show',\n",
       "       'chattr +s file.txt', 'ionice -c2 -p 1234',\n",
       "       'prlimit --pid 1234 --nofile=1024', 'pidof nginx', 'htop -u user',\n",
       "       'bpftrace -e \\'tracepoint:syscalls:sys_enter_openat { printf(\"%s opened %s\\n\", comm, str(args->filename)); }\\'',\n",
       "       'lsof -iTCP -sTCP:LISTEN', 'ip monitor', 'ss -H -o',\n",
       "       'ip link set eth0 mtu 9000', 'nping --tcp -p 80 192.168.1.1',\n",
       "       'ipset add myset 192.168.1.100', 'tcpflow -i eth0 port 80',\n",
       "       \"ngrep -q 'HTTP' port 80\", 'bmon -i eth0', 'iftop -i eth0',\n",
       "       'hexdump -ve \\'/1 \"%02x\"\\' file.bin', 'strings -n 10 /bin/ls',\n",
       "       'rev file.txt', \"csplit -z file.txt '/^#/' {*}\", 'znew logfile.gz',\n",
       "       'xfs_repair /dev/sda1', 'btrfs subvolume create /mnt/subvol',\n",
       "       'btrfs scrub start /mnt', 'e2fsck -n /dev/sda1',\n",
       "       'tune2fs -l /dev/sda1', 'cryptsetup benchmark',\n",
       "       'setfacl -d -m u:user:rwx /data',\n",
       "       \"semanage fcontext -a -t httpd_sys_content_t '/var/www(/.*)?'\",\n",
       "       'chattr -R +u /backup', 'getfattr -n security.selinux file.txt',\n",
       "       'semanage port -a -t http_port_t -p tcp 8080', 'aa-status',\n",
       "       'apparmor_parser -R /etc/apparmor.d/usr.sbin.nginx',\n",
       "       'ausyscall --dump', 'lsipc', 'slabtop', 'lslogins', 'pwconv',\n",
       "       'grpconv', 'chage -M 90 user', 'last -x', 'authconfig --test',\n",
       "       'nscd -i passwd', 'atrm 1', 'systemd-cgtop', 'sar -n DEV 1 3',\n",
       "       'ethtool -S eth0', 'ip rule show', 'ip xfrm state',\n",
       "       'ip mroute show', 'tc qdisc show', 'bridge link show',\n",
       "       'ip netns list', 'ip netns exec ns1 ip addr',\n",
       "       'ncat --ssl 192.168.1.1 443', 'zstd -z file.txt',\n",
       "       'zstdcat file.txt.zst', 'xz -z file.txt', 'xzcat file.txt.xz',\n",
       "       'lzip -z file.txt', 'lzcat file.txt.lz', 'hexedit file.bin',\n",
       "       'nano -r 80 config.conf', 'vim -R file.txt', 'emacs -Q file.txt',\n",
       "       'apt-config dump', 'yum history info 1',\n",
       "       'dnf repoquery --requires python3', 'rpm -qf /usr/bin/nginx',\n",
       "       'rpm -V nginx', 'debsums -c nginx', 'partx -s /dev/sda',\n",
       "       'lsblk -p', 'lscpu -J', 'free -b', 'uname -i', 'vmstat -SM',\n",
       "       'iostat -m', 'lslocks', 'lsmem', 'lsscsi', 'lshw -short',\n",
       "       'dmsetup ls', 'lsattr -R /data', 'find / -xdev -perm /u+s',\n",
       "       'chmod -R u-s /data', 'chown -R --from=root user /data',\n",
       "       'setfacl -R -b /data', 'chcon -u system_u file.txt',\n",
       "       'xxd -i file.txt', 'od -A d -t d4 file.bin',\n",
       "       'hexdump -C -n 16 file.bin', \"nl -w 2 -s ': ' file.txt\",\n",
       "       'expand -t 4 file.txt', 'unexpand -t 4 file.txt',\n",
       "       'fmt -s file.txt', 'pr -d file.txt', 'fold -s -w 80 file.txt',\n",
       "       'cut -c 1-10 file.txt', 'sort -R file.txt', 'uniq -c file.txt',\n",
       "       'comm -12 file1.txt file2.txt', 'paste -s file.txt',\n",
       "       \"join -t ',' file1.txt file2.txt\", 'btrfs filesystem df /mnt',\n",
       "       'xfs_db -r /dev/sda1', 'debugfs -c /dev/sda1',\n",
       "       'dumpe2fs -h /dev/sda1', 'ethtool -i eth0', 'ip -j addr', 'ss -M',\n",
       "       'tcpdump -X -i eth0', 'nload eth0', 'ipcalc 192.168.1.0/24',\n",
       "       'perf record -p 1234', 'perf report', 'systemd-analyze blame',\n",
       "       'systemd-analyze critical-chain', 'journalctl -p 3 -b',\n",
       "       'lsns -t pid', 'findmnt -D', 'lsblk -J', 'dmidecode -t system',\n",
       "       'pidstat -d 1 3', 'systemctl list-dependencies nginx',\n",
       "       'systemctl is-enabled nginx', 'bpftool prog list',\n",
       "       'bpftool map list', 'trace-cmd record -p function -P 1234',\n",
       "       'trace-cmd report', 'fuser -k /var/log/syslog', 'lsof -t -i :80',\n",
       "       'etckeeper vcs log', 'mkswap /dev/sdb1', 'swapon /dev/sdb1',\n",
       "       'swapoff /dev/sdb1', 'cryptsetup luksDump /dev/sdb1',\n",
       "       'aa-complain /etc/apparmor.d/usr.sbin.nginx',\n",
       "       'aa-enforce /etc/apparmor.d/usr.sbin.nginx'], dtype=object)"
      ]
     },
     "execution_count": 84,
     "metadata": {},
     "output_type": "execute_result"
    }
   ],
   "source": [
    "c.command.values"
   ]
  },
  {
   "cell_type": "code",
   "execution_count": null,
   "id": "ba5b7883-7911-438c-9acc-dec375fb5e67",
   "metadata": {},
   "outputs": [],
   "source": []
  }
 ],
 "metadata": {
  "kernelspec": {
   "display_name": "Python 3 (ipykernel)",
   "language": "python",
   "name": "python3"
  },
  "language_info": {
   "codemirror_mode": {
    "name": "ipython",
    "version": 3
   },
   "file_extension": ".py",
   "mimetype": "text/x-python",
   "name": "python",
   "nbconvert_exporter": "python",
   "pygments_lexer": "ipython3",
   "version": "3.12.4"
  },
  "widgets": {
   "application/vnd.jupyter.widget-state+json": {
    "state": {},
    "version_major": 2,
    "version_minor": 0
   }
  }
 },
 "nbformat": 4,
 "nbformat_minor": 5
}
