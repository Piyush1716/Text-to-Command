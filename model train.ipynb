{
 "cells": [
  {
   "cell_type": "code",
   "execution_count": 1,
   "id": "31a5878f-844c-4ac1-beb2-2ff96757c245",
   "metadata": {},
   "outputs": [],
   "source": [
    "import pandas as pd"
   ]
  },
  {
   "cell_type": "code",
   "execution_count": 14,
   "id": "5b548eed-9139-4984-b784-bafd1fa45f6b",
   "metadata": {},
   "outputs": [
    {
     "data": {
      "application/javascript": [
       "IPython.notebook.set_autosave_interval(60000)"
      ]
     },
     "metadata": {},
     "output_type": "display_data"
    },
    {
     "name": "stdout",
     "output_type": "stream",
     "text": [
      "Autosaving every 60 seconds\n"
     ]
    }
   ],
   "source": [
    "%autosave 60"
   ]
  },
  {
   "cell_type": "code",
   "execution_count": 22,
   "id": "9a524f4d-307d-4948-89b7-d34fe0c4029a",
   "metadata": {},
   "outputs": [
    {
     "name": "stdout",
     "output_type": "stream",
     "text": [
      "\n",
      "Query: show me all files in this folder with details\n",
      "  → ls -d */ (matched 'Show me only the directories in this folder') score=0.7997\n",
      "  → ls -R (matched 'Show me all files and directories, including those nested within others') score=0.7784\n",
      "  → ls -la (matched 'I need to see everything in this folder, including dot files, with their full attributes') score=0.7776\n",
      "\n",
      "Query: open file.txt in read only mode using vim\n",
      "  → vim -R file.txt (matched 'Open file.txt in Vim in read-only mode') score=0.9893\n",
      "  → vim -R file.txt (matched 'Please open file.txt using Vim in read-only mode') score=0.9741\n",
      "  → vim -R file.txt (matched 'How do I open `file.txt` with Vim in read-only mode?') score=0.9665\n",
      "\n",
      "Query: how to refresh htop every half second\n",
      "  → htop -d 5 (matched 'How do I run `htop` so it refreshes every 0.5 seconds?') score=0.9170\n",
      "  → htop -d 5 (matched 'How do I launch htop so it updates every half second?') score=0.8931\n",
      "  → htop -d 5 (matched 'How can I get `htop` to refresh twice a second?') score=0.8754\n",
      "\n",
      "Query: remove unused dependencies in fedora\n",
      "  → dnf autoremove (matched 'How do I remove unused dependencies on Fedora?') score=0.9743\n",
      "  → dnf autoremove (matched 'I want to remove unused dependencies from my system') score=0.7980\n",
      "  → apt autoremove (matched 'What's the command to clean up unused dependencies?') score=0.7786\n"
     ]
    }
   ],
   "source": [
    "import pandas as pd\n",
    "import torch\n",
    "from sentence_transformers import SentenceTransformer, util\n",
    "\n",
    "# Load dataset\n",
    "df = pd.read_csv(\"commands.csv\")\n",
    "\n",
    "# Use user queries directly\n",
    "queries_list = df['user_query'].tolist()\n",
    "commands_list = df['command'].tolist()\n",
    "\n",
    "# Load semantic model\n",
    "model = SentenceTransformer('multi-qa-mpnet-base-dot-v1')\n",
    "\n",
    "# Encode all queries\n",
    "query_embeddings = model.encode(queries_list, convert_to_tensor=True)\n",
    "\n",
    "def get_best_command(user_input, top_k=3):\n",
    "    input_emb = model.encode(user_input, convert_to_tensor=True)\n",
    "    scores = util.cos_sim(input_emb, query_embeddings)[0]\n",
    "    top_results = torch.topk(scores, k=top_k)\n",
    "    \n",
    "    matches = []\n",
    "    for score, idx in zip(top_results[0], top_results[1]):\n",
    "        matches.append({\n",
    "            \"user_query\": queries_list[idx],\n",
    "            \"command\": commands_list[idx],\n",
    "            \"score\": float(score)\n",
    "        })\n",
    "    return matches\n",
    "\n",
    "# Test\n",
    "test_queries = [\n",
    "    \"show me all files in this folder with details\",\n",
    "    \"open file.txt in read only mode using vim\",\n",
    "    \"how to refresh htop every half second\",\n",
    "    \"remove unused dependencies in fedora\"\n",
    "]\n",
    "\n",
    "for q in test_queries:\n",
    "    print(f\"\\nQuery: {q}\")\n",
    "    results = get_best_command(q)\n",
    "    for r in results:\n",
    "        print(f\"  → {r['command']} (matched '{r['user_query']}') score={r['score']:.4f}\")\n"
   ]
  },
  {
   "cell_type": "code",
   "execution_count": 23,
   "id": "df6c15a1-d53a-4410-89e1-070445907b76",
   "metadata": {},
   "outputs": [],
   "source": [
    "def get_best_command(user_input, top_k=3):\n",
    "    input_emb = model.encode(user_input, convert_to_tensor=True)\n",
    "    scores = util.cos_sim(input_emb, query_embeddings)[0]\n",
    "    top_results = torch.topk(scores, k=len(scores))  # check all scores\n",
    "\n",
    "    seen_commands = set()\n",
    "    matches = []\n",
    "\n",
    "    for score, idx in zip(top_results[0], top_results[1]):\n",
    "        cmd = commands_list[idx]\n",
    "        if cmd not in seen_commands:\n",
    "            matches.append({\n",
    "                \"user_query\": queries_list[idx],\n",
    "                \"command\": cmd,\n",
    "                \"score\": float(score)\n",
    "            })\n",
    "            seen_commands.add(cmd)\n",
    "        if len(matches) >= top_k:\n",
    "            break\n",
    "\n",
    "    return matches\n"
   ]
  },
  {
   "cell_type": "code",
   "execution_count": 24,
   "id": "92d98df8-9913-4bb8-834f-86e0ed94c6d4",
   "metadata": {},
   "outputs": [
    {
     "name": "stdout",
     "output_type": "stream",
     "text": [
      "\n",
      "Query: show me all files in this folder with details\n",
      "  → ls -d */ (matched 'Show me only the directories in this folder') score=0.7997\n",
      "  → ls -R (matched 'Show me all files and directories, including those nested within others') score=0.7784\n",
      "  → ls -la (matched 'I need to see everything in this folder, including dot files, with their full attributes') score=0.7776\n",
      "\n",
      "Query: open file.txt in read only mode using vim\n",
      "  → vim -R file.txt (matched 'Open file.txt in Vim in read-only mode') score=0.9893\n",
      "  → vim file.txt (matched 'Please open file.txt using Vim') score=0.8068\n",
      "  → vim -u NONE file.txt (matched 'Run Vim on `file.txt` in a clean mode, ignoring `.vimrc`') score=0.7464\n",
      "\n",
      "Query: how to refresh htop every half second\n",
      "  → htop -d 5 (matched 'How do I run `htop` so it refreshes every 0.5 seconds?') score=0.9170\n",
      "  → htop (matched 'Execute the htop command') score=0.6853\n",
      "  → htop -u user (matched 'Monitor processes for 'user' using `htop`') score=0.6008\n",
      "\n",
      "Query: remove unused dependencies in fedora\n",
      "  → dnf autoremove (matched 'How do I remove unused dependencies on Fedora?') score=0.9743\n",
      "  → apt autoremove (matched 'What's the command to clean up unused dependencies?') score=0.7786\n",
      "  → dnf repoquery --installed (matched 'Please list every package installed on this Fedora system') score=0.6638\n"
     ]
    }
   ],
   "source": [
    "# Test\n",
    "test_queries = [\n",
    "    \"show me all files in this folder with details\",\n",
    "    \"open file.txt in read only mode using vim\",\n",
    "    \"how to refresh htop every half second\",\n",
    "    \"remove unused dependencies in fedora\"\n",
    "]\n",
    "\n",
    "for q in test_queries:\n",
    "    print(f\"\\nQuery: {q}\")\n",
    "    results = get_best_command(q)\n",
    "    for r in results:\n",
    "        print(f\"  → {r['command']} (matched '{r['user_query']}') score={r['score']:.4f}\")\n"
   ]
  },
  {
   "cell_type": "code",
   "execution_count": 26,
   "id": "2b8200e5-388a-47d5-a254-69cf8e05833b",
   "metadata": {},
   "outputs": [],
   "source": [
    "model.save(\"saved_model\")        # save\n"
   ]
  },
  {
   "cell_type": "code",
   "execution_count": 27,
   "id": "8181dfc5-f1d0-4c9f-8bb0-8b9777ad10b9",
   "metadata": {},
   "outputs": [],
   "source": [
    "torch.save(query_embeddings, \"query_embeddings.pt\")  # save\n",
    "\n"
   ]
  },
  {
   "cell_type": "code",
   "execution_count": 28,
   "id": "678af2ec-e257-4112-8b60-8bb9f27bdfa4",
   "metadata": {},
   "outputs": [],
   "source": [
    "\n",
    "torch.save(commands_list, \"commands_list.pt\")   # save the list too"
   ]
  },
  {
   "cell_type": "code",
   "execution_count": null,
   "id": "e30be345-5515-4dd5-afca-57b4ab6490cd",
   "metadata": {},
   "outputs": [],
   "source": []
  }
 ],
 "metadata": {
  "kernelspec": {
   "display_name": "Python 3 (ipykernel)",
   "language": "python",
   "name": "python3"
  },
  "language_info": {
   "codemirror_mode": {
    "name": "ipython",
    "version": 3
   },
   "file_extension": ".py",
   "mimetype": "text/x-python",
   "name": "python",
   "nbconvert_exporter": "python",
   "pygments_lexer": "ipython3",
   "version": "3.12.4"
  },
  "widgets": {
   "application/vnd.jupyter.widget-state+json": {
    "state": {},
    "version_major": 2,
    "version_minor": 0
   }
  }
 },
 "nbformat": 4,
 "nbformat_minor": 5
}
