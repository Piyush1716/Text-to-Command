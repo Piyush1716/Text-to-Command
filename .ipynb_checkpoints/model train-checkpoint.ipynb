{
 "cells": [
  {
   "cell_type": "code",
   "execution_count": 1,
   "id": "31a5878f-844c-4ac1-beb2-2ff96757c245",
   "metadata": {},
   "outputs": [],
   "source": [
    "import pandas as pd"
   ]
  },
  {
   "cell_type": "code",
   "execution_count": 14,
   "id": "5b548eed-9139-4984-b784-bafd1fa45f6b",
   "metadata": {},
   "outputs": [
    {
     "data": {
      "application/javascript": [
       "IPython.notebook.set_autosave_interval(60000)"
      ]
     },
     "metadata": {},
     "output_type": "display_data"
    },
    {
     "name": "stdout",
     "output_type": "stream",
     "text": [
      "Autosaving every 60 seconds\n"
     ]
    }
   ],
   "source": [
    "%autosave 60"
   ]
  },
  {
   "cell_type": "code",
   "execution_count": 8,
   "id": "3c814b02-37e1-4c15-af83-700d43e3bab8",
   "metadata": {
    "collapsed": true,
    "jupyter": {
     "outputs_hidden": true
    }
   },
   "outputs": [
    {
     "name": "stdout",
     "output_type": "stream",
     "text": [
      "                                                                                                            precision    recall  f1-score   support\n",
      "\n",
      "                                                                aa-complain /etc/apparmor.d/usr.sbin.nginx       1.00      1.00      1.00         2\n",
      "                                                                 aa-enforce /etc/apparmor.d/usr.sbin.nginx       0.60      1.00      0.75         3\n",
      "                                                                                                 aa-status       0.50      1.00      0.67         2\n",
      "                                                                              addgroup --gid 2000 newgroup       1.00      1.00      1.00         3\n",
      "                                                                    adduser --home /home/testuser testuser       1.00      1.00      1.00         3\n",
      "                                                                                           adduser newuser       1.00      1.00      1.00         3\n",
      "                                                         apparmor_parser -R /etc/apparmor.d/usr.sbin.nginx       1.00      0.33      0.50         3\n",
      "                                                                                            apt autoremove       0.00      0.00      0.00         3\n",
      "                                                                                                 apt clean       0.50      1.00      0.67         5\n",
      "                                                                                         apt depends nginx       0.40      1.00      0.57         2\n",
      "                                                                                         apt install nginx       1.00      1.00      1.00         2\n",
      "                                                                                      apt list --installed       0.00      0.00      0.00         3\n",
      "                                                                                          apt policy nginx       1.00      1.00      1.00         3\n",
      "                                                                                           apt purge nginx       0.33      0.50      0.40         2\n",
      "                                                                                          apt search nginx       1.00      1.00      1.00         2\n",
      "                                                                                          apt show python3       0.67      0.67      0.67         3\n",
      "                                                                                          apt source nginx       1.00      1.00      1.00         2\n",
      "                                                                                                apt update       0.00      0.00      0.00         2\n",
      "                                                                                               apt upgrade       0.00      0.00      0.00         2\n",
      "                                                                                           apt-config dump       1.00      0.67      0.80         3\n",
      "                                                                            apt-file search /usr/bin/nginx       0.00      0.00      0.00         2\n",
      "                                                                                                    arp -n       1.00      0.33      0.50         3\n",
      "                                                                                        arping 192.168.1.1       1.00      1.00      1.00         2\n",
      "                                                                                           at now + 1 hour       1.00      1.00      1.00         3\n",
      "                                                                                                       atq       1.00      1.00      1.00         3\n",
      "                                                                                                    atrm 1       0.00      0.00      0.00         3\n",
      "                                                    auditctl -a always,exit -F path=/etc/passwd -F perm=wa       1.00      0.67      0.80         3\n",
      "                                                                                               auditctl -l       1.00      1.00      1.00         2\n",
      "                                                                                         ausearch -m LOGIN       1.00      1.00      1.00         2\n",
      "                                                                                          ausyscall --dump       1.00      0.50      0.67         2\n",
      "                                                                                         authconfig --test       1.00      1.00      1.00         3\n",
      "                                                                                     badblocks -v /dev/sdb       1.00      1.00      1.00         2\n",
      "                                                                                     base64 -d encoded.txt       1.00      1.00      1.00         2\n",
      "                                                                                           base64 file.bin       1.00      1.00      1.00         2\n",
      "                                                                                                     batch       1.00      0.50      0.67         2\n",
      "                                                                                                     bg %1       0.50      1.00      0.67         3\n",
      "                                                                                             blkid -o list       1.00      0.33      0.50         3\n",
      "                                                                                              bmon -i eth0       0.50      0.50      0.50         2\n",
      "                                                                                          bpftool map list       1.00      1.00      1.00         2\n",
      "                                                                                         bpftool prog list       0.67      1.00      0.80         2\n",
      "bpftrace -e 'tracepoint:syscalls:sys_enter_openat { printf(\"%s opened %s\n",
      "\", comm, str(args->filename)); }'       1.00      1.00      1.00         3\n",
      "                                                                                          bridge link show       1.00      1.00      1.00         2\n",
      "                                                                                  btrfs filesystem df /mnt       1.00      1.00      1.00         2\n",
      "                                                                                     btrfs filesystem show       1.00      1.00      1.00         2\n",
      "                                                                                    btrfs scrub start /mnt       1.00      1.00      1.00         2\n",
      "                                                                        btrfs subvolume create /mnt/subvol       1.00      1.00      1.00         3\n",
      "                                                                                           cat -b file.txt       1.00      0.33      0.50         3\n",
      "                                                                                           cat -e file.txt       1.00      1.00      1.00         2\n",
      "                                                                                          cat -n script.sh       1.00      0.50      0.67         2\n",
      "                                                                                           cat -s file.txt       0.75      1.00      0.86         3\n",
      "                                                                                           cat -t file.txt       1.00      0.33      0.50         3\n",
      "                                                                                           cat -v file.txt       0.67      1.00      0.80         2\n",
      "                                                                                    cat << EOF > script.sh       0.33      1.00      0.50         5\n",
      "                                                                                   cat file1.txt file2.txt       0.00      0.00      0.00         3\n",
      "                                                                                           cat logfile.txt       1.00      1.00      1.00         2\n",
      "                                                                                                      cd -       1.00      0.33      0.50         3\n",
      "                                                                                    cd -P /path/to/symlink       0.60      1.00      0.75         3\n",
      "                                                                                                     cd ..       0.67      1.00      0.80         2\n",
      "                                                                                               cd /dev/shm       1.00      1.00      1.00         2\n",
      "                                                                                                   cd /etc       0.44      1.00      0.62         4\n",
      "                                                                                               cd /proc/$$       1.00      0.67      0.80         3\n",
      "                                                                                                   cd /tmp       1.00      0.50      0.67         2\n",
      "                                                                                         cd /usr/local/bin       1.00      1.00      1.00         2\n",
      "                                                                                             cd /usr/share       1.00      1.00      1.00         2\n",
      "                                                                                               cd /var/log       0.29      1.00      0.44         2\n",
      "                                                                                                      cd ~       1.00      1.00      1.00         3\n",
      "                                                                                                  cd ~user       1.00      0.50      0.67         2\n",
      "                                                                                  chage -E 2025-12-31 user       0.00      0.00      0.00         3\n",
      "                                                                                          chage -M 90 user       1.00      1.00      1.00         2\n",
      "                                                                                             chage -l user       0.67      0.67      0.67         3\n",
      "                                                                                        chattr +a file.txt       1.00      1.00      1.00         3\n",
      "                                                                                        chattr +i file.txt       0.00      0.00      0.00         2\n",
      "                                                                                        chattr +s file.txt       1.00      0.50      0.67         2\n",
      "                                                                                      chattr -R +u /backup       1.00      1.00      1.00         2\n",
      "                                                                                        chattr -i file.txt       0.67      0.67      0.67         3\n",
      "                                                                        chcon -R -t user_home_t /home/user       0.50      1.00      0.67         2\n",
      "                                                                     chcon -t httpd_sys_content_t /var/www       0.50      1.00      0.67         2\n",
      "                                                                                chcon -u system_u file.txt       1.00      1.00      1.00         3\n",
      "                                                                                  chfn -f 'Full Name' user       0.50      0.50      0.50         2\n",
      "                                                                                      chgrp -R group /data       0.00      0.00      0.00         2\n",
      "                                                                                      chgrp group file.txt       0.00      0.00      0.00         2\n",
      "                                                                                        chmod +x script.sh       0.00      0.00      0.00         3\n",
      "                                                                                        chmod -R 750 /data       0.45      1.00      0.62         5\n",
      "                                                                                        chmod -R u-s /data       1.00      0.50      0.67         2\n",
      "                                                                                        chmod 600 file.txt       1.00      0.50      0.67         2\n",
      "                                                                                        chmod 644 file.txt       0.67      1.00      0.80         2\n",
      "                                                                                       chmod 755 script.sh       0.00      0.00      0.00         2\n",
      "                                                                                        chmod g+w file.txt       1.00      0.50      0.67         2\n",
      "                                                                                       chmod g-x script.sh       1.00      0.33      0.50         3\n",
      "                                                                                        chmod o-r file.txt       0.00      0.00      0.00         2\n",
      "                                                                                       chmod u+x script.sh       0.00      0.00      0.00         2\n",
      "                                                                           chown -R --from=root user /data       1.00      1.00      1.00         3\n",
      "                                                                                     chown -R :group /data       0.00      0.00      0.00         2\n",
      "                                                                                 chown -R user:group /data       1.00      0.50      0.67         2\n",
      "                                                                              chown -R user:group /var/www       1.00      1.00      1.00         2\n",
      "                                                                                     chown -h user symlink       1.00      1.00      1.00         2\n",
      "                                                                                    chown -hR user symlink       1.00      1.00      1.00         2\n",
      "                                                                                    chown -v user file.txt       0.00      0.00      0.00         3\n",
      "                                                                                     chown :group file.txt       0.22      1.00      0.36         5\n",
      "                                                                                       chown user file.txt       0.50      1.00      0.67         2\n",
      "                                                                                 chown user:group file.txt       0.00      0.00      0.00         3\n",
      "                                                                                     chsh -s /bin/zsh user       0.67      1.00      0.80         2\n",
      "                                                                                         col -b < file.txt       1.00      1.00      1.00         2\n",
      "                                                                                      colrm 1 5 < file.txt       0.33      0.50      0.40         2\n",
      "                                                                              comm -12 file1.txt file2.txt       0.00      0.00      0.00         2\n",
      "                                                                                  comm file1.txt file2.txt       1.00      0.67      0.80         3\n",
      "                                                                                        cp -a dir1 /backup       1.00      1.00      1.00         2\n",
      "                                                                                 cp -l file1.txt file2.txt       1.00      0.50      0.67         2\n",
      "                                                                                    cp -p file.txt /backup       1.00      0.67      0.80         3\n",
      "                                                                                           cp -r dir1 dir2       1.00      0.67      0.80         3\n",
      "                                                                                  cp -s file1.txt link.txt       1.00      1.00      1.00         3\n",
      "                                                                                    cp -u file.txt /backup       0.33      1.00      0.50         5\n",
      "                                                                                    cp -v file.txt /backup       0.00      0.00      0.00         3\n",
      "                                                                                       cp file.txt /backup       1.00      0.50      0.67         2\n",
      "                                                                                      cp file.txt file.bak       1.00      1.00      1.00         2\n",
      "                                                                                                crontab -l       0.50      0.67      0.57         3\n",
      "                                                                                        crontab -u user -l       1.00      0.33      0.50         3\n",
      "                                                                                      cryptsetup benchmark       1.00      1.00      1.00         2\n",
      "                                                                             cryptsetup luksDump /dev/sdb1       1.00      0.67      0.80         3\n",
      "                                                                       cryptsetup luksOpen /dev/sdb1 crypt       1.00      1.00      1.00         3\n",
      "                                                                             csplit -z file.txt '/^#/' {*}       1.00      1.00      1.00         3\n",
      "                                                                                csplit file.txt '/^#/' {*}       1.00      0.50      0.67         2\n",
      "                                                                                      cut -c 1-10 file.txt       0.50      1.00      0.67         2\n",
      "                                                                                  cut -d ',' -f 1 file.csv       1.00      1.00      1.00         2\n",
      "                                                               dd if=/dev/zero of=file.img bs=1M count=100       0.67      1.00      0.80         2\n",
      "                                                                                          debsums -c nginx       1.00      1.00      1.00         3\n",
      "                                                                     debugfs -R 'stat /file.txt' /dev/sda1       1.00      0.50      0.67         2\n",
      "                                                                                      debugfs -c /dev/sda1       0.67      1.00      0.80         2\n",
      "                                                                                                     df -T       1.00      0.33      0.50         3\n",
      "                                                                                                     df -h       1.00      1.00      1.00         2\n",
      "                                                                                                     df -i       0.44      0.80      0.57         5\n",
      "                                                                                                df -t ext4       0.67      1.00      0.80         2\n",
      "                                                                                                      df /       0.50      0.50      0.50         2\n",
      "                                                                                            dig google.com       0.50      1.00      0.67         2\n",
      "                                                                                                   dirs -c       0.00      0.00      0.00         3\n",
      "                                                                                                   dirs -p       1.00      0.67      0.80         3\n",
      "                                                                                                   dirs -v       1.00      1.00      1.00         2\n",
      "                                                                                              disown -h %1       0.00      0.00      0.00         3\n",
      "                                                                                                  dmesg -T       0.50      0.50      0.50         2\n",
      "                                                                                         dmidecode -t bios       1.00      1.00      1.00         3\n",
      "                                                                                       dmidecode -t memory       1.00      0.50      0.67         2\n",
      "                                                                                    dmidecode -t processor       0.50      1.00      0.67         2\n",
      "                                                                                       dmidecode -t system       1.00      1.00      1.00         2\n",
      "                                                                                                dmsetup ls       0.75      1.00      0.86         3\n",
      "                                                                                            dnf autoremove       0.36      1.00      0.53         5\n",
      "                                                                                             dnf clean all       0.00      0.00      0.00         2\n",
      "                                                                                            dnf group list       1.00      1.00      1.00         2\n",
      "                                                                                          dnf history list       1.00      1.00      1.00         2\n",
      "                                                                                       dnf install python3       0.00      0.00      0.00         2\n",
      "                                                                                           dnf module list       1.00      1.00      1.00         2\n",
      "                                                                                    dnf provides /bin/bash       1.00      1.00      1.00         2\n",
      "                                                                                 dnf repoquery --installed       0.40      1.00      0.57         2\n",
      "                                                                          dnf repoquery --requires python3       1.00      0.33      0.50         3\n",
      "                                                                                                dnf update       0.50      0.67      0.57         3\n",
      "                                                                                               dnf upgrade       0.00      0.00      0.00         3\n",
      "                                                                                              dstat -cdngy       1.00      1.00      1.00         3\n",
      "                                                                                           du -sh /var/log       0.00      0.00      0.00         3\n",
      "                                                                              dump -f backup.tar /dev/sda1       1.00      1.00      1.00         2\n",
      "                                                                                     dumpe2fs -h /dev/sda1       1.00      1.00      1.00         2\n",
      "                                                                                       e2fsck -n /dev/sda1       0.00      0.00      0.00         3\n",
      "                                                                                emacs --batch -l script.el       1.00      1.00      1.00         2\n",
      "                                                                     emacs --eval '(find-file \"file.txt\")'       1.00      1.00      1.00         2\n",
      "                                                                             emacs --no-init-file file.txt       0.00      0.00      0.00         2\n",
      "                                                                                         emacs -Q file.txt       0.00      0.00      0.00         2\n",
      "                                                                                        emacs -nw file.txt       1.00      0.50      0.67         2\n",
      "                                                                                            emacs file.txt       0.50      1.00      0.67         3\n",
      "                                                                         etckeeper commit 'Updated config'       0.67      1.00      0.80         2\n",
      "                                                                                            etckeeper init       1.00      1.00      1.00         2\n",
      "                                                                                         etckeeper vcs log       1.00      1.00      1.00         3\n",
      "                                                                                           ethtool -S eth0       0.75      1.00      0.86         3\n",
      "                                                                                           ethtool -i eth0       1.00      1.00      1.00         3\n",
      "                                                                                              ethtool eth0       0.50      0.33      0.40         3\n",
      "                                                                                      expand -t 4 file.txt       0.00      0.00      0.00         3\n",
      "                                                                                           expand file.txt       0.20      0.50      0.29         2\n",
      "                                                                                           faillog -u user       0.67      1.00      0.80         2\n",
      "                                                                                  fallocate -l 1G file.img       1.00      1.00      1.00         2\n",
      "                                                                                                   fatrace       1.00      0.50      0.67         2\n",
      "                                                                                                     fg %1       0.20      0.50      0.29         2\n",
      "                                                                                             file file.bin       1.00      1.00      1.00         2\n",
      "                                                                                   find / -xdev -perm /u+s       1.00      1.00      1.00         3\n",
      "                                                                                   find /var -name '*.log'       1.00      1.00      1.00         3\n",
      "                                                                                                findmnt -D       0.75      1.00      0.86         3\n",
      "                                                                                           findmnt -t ext4       1.00      1.00      1.00         3\n",
      "                                                                                               finger user       1.00      1.00      1.00         2\n",
      "                                                                                           fmt -s file.txt       1.00      1.00      1.00         2\n",
      "                                                                                        fmt -w 80 file.txt       0.50      0.50      0.50         2\n",
      "                                                                                    fold -s -w 80 file.txt       0.50      1.00      0.67         2\n",
      "                                                                                       fold -w 80 file.txt       0.00      0.00      0.00         3\n",
      "                                                                                                   free -b       0.00      0.00      0.00         2\n",
      "                                                                                                   free -h       1.00      0.33      0.50         3\n",
      "                                                                                                   free -m       0.50      1.00      0.67         2\n",
      "                                                                                                 free -s 2       0.67      1.00      0.80         2\n",
      "                                                                                                   free -t       1.00      0.67      0.80         3\n",
      "                                                                                                   free -w       0.50      0.33      0.40         3\n",
      "                                                                                    fsck.ext4 -n /dev/sda1       1.00      1.00      1.00         2\n",
      "                                                                                  fuser -k /var/log/syslog       1.00      0.33      0.50         3\n",
      "                                                                                  fuser -v /var/log/syslog       0.60      1.00      0.75         3\n",
      "                                                                                            gdb --pid 1234       1.00      1.00      1.00         2\n",
      "                                                                                         getent group sudo       1.00      1.00      1.00         2\n",
      "                                                                                        getent passwd user       0.50      1.00      0.67         2\n",
      "                                                                                          getfacl file.txt       0.00      0.00      0.00         2\n",
      "                                                                                      getfattr -d file.txt       0.00      0.00      0.00         3\n",
      "                                                                     getfattr -n security.selinux file.txt       1.00      0.67      0.80         3\n",
      "                                                                                              getsebool -a       0.00      0.00      0.00         2\n",
      "                                                                                         groupadd newgroup       1.00      1.00      1.00         2\n",
      "                                                                                         groupdel oldgroup       1.00      1.00      1.00         3\n",
      "                                                                                                     grpck       0.00      0.00      0.00         2\n",
      "                                                                                                   grpconv       1.00      0.33      0.50         3\n",
      "                                                                                      head -c 100 file.txt       1.00      1.00      1.00         2\n",
      "                                                                                     head -n -5 access.log       0.36      1.00      0.53         5\n",
      "                                                                                     head -n 20 access.log       1.00      1.00      1.00         2\n",
      "                                                                             head -n 3 file1.txt file2.txt       1.00      0.50      0.67         2\n",
      "                                                                                      head -n 5 access.log       0.00      0.00      0.00         2\n",
      "                                                                          head -q -n 2 file1.txt file2.txt       0.00      0.00      0.00         3\n",
      "                                                                                        head -v access.log       1.00      1.00      1.00         2\n",
      "                                                                                           head access.log       0.00      0.00      0.00         2\n",
      "                                                                                 hexdump -C -n 16 file.bin       0.50      1.00      0.67         2\n",
      "                                                                                       hexdump -C file.bin       0.00      0.00      0.00         2\n",
      "                                                                          hexdump -ve '/1 \"%02x\"' file.bin       1.00      1.00      1.00         2\n",
      "                                                                                          hexedit file.bin       1.00      1.00      1.00         3\n",
      "                                                                                           host google.com       1.00      0.50      0.67         2\n",
      "                                                                                     hping3 -S 192.168.1.1       1.00      1.00      1.00         3\n",
      "                                                                                                      htop       0.00      0.00      0.00         3\n",
      "                                                                                                 htop -d 5       0.83      1.00      0.91         5\n",
      "                                                                                                   htop -t       0.67      0.67      0.67         3\n",
      "                                                                                              htop -u user       0.25      1.00      0.40         5\n",
      "                                                                                                        id       1.00      1.00      1.00         3\n",
      "                                                                                               id -Gn user       1.00      0.33      0.50         3\n",
      "                                                                                                id newuser       0.67      1.00      0.80         2\n",
      "                                                                                                  ifconfig       0.00      0.00      0.00         2\n",
      "                                                                                        ifconfig eth0 down       1.00      0.67      0.80         3\n",
      "                                                                                             iftop -i eth0       0.50      0.33      0.40         3\n",
      "                                                                                   inotifywait -m /var/log       1.00      0.50      0.67         2\n",
      "                                                                   install -m 755 script.sh /usr/local/bin       1.00      1.00      1.00         2\n",
      "                                                                                        ionice -c2 -p 1234       0.75      1.00      0.86         3\n",
      "                                                                                        ionice -c3 command       1.00      0.50      0.67         2\n",
      "                                                                                                 iostat -m       1.00      0.33      0.50         3\n",
      "                                                                                             iostat -x 1 3       0.50      0.67      0.57         3\n",
      "                                                                                                  iotop -o       0.50      0.50      0.50         2\n",
      "                                                                                                ip -j addr       1.00      1.00      1.00         2\n",
      "                                                                                                ip -s link       1.00      0.33      0.50         3\n",
      "                                                                     ip addr add 192.168.1.101/24 dev eth0       1.00      1.00      1.00         2\n",
      "                                                                                              ip addr show       0.25      0.50      0.33         2\n",
      "                                                                                 ip link set eth0 mtu 9000       1.00      0.50      0.67         2\n",
      "                                                                                              ip link show       0.00      0.00      0.00         2\n",
      "                                                                                                ip monitor       0.00      0.00      0.00         3\n",
      "                                                                                            ip mroute show       1.00      1.00      1.00         2\n",
      "                                                                                          ip neighbor show       0.50      0.50      0.50         2\n",
      "                                                                                 ip netns exec ns1 ip addr       1.00      1.00      1.00         3\n",
      "                                                                                             ip netns list       1.00      0.50      0.67         2\n",
      "                                                                                             ip route show       0.00      0.00      0.00         3\n",
      "                                                                                              ip rule show       1.00      1.00      1.00         3\n",
      "                                                                                             ip xfrm state       0.50      0.50      0.50         2\n",
      "                                                                                     ipcalc 192.168.1.0/24       1.00      0.50      0.67         2\n",
      "                                                                                                   ipcs -m       0.50      0.50      0.50         2\n",
      "                                                                                                   ipcs -q       0.50      0.67      0.57         3\n",
      "                                                                                                   ipcs -s       1.00      0.67      0.80         3\n",
      "                                                                             ipset add myset 192.168.1.100       1.00      1.00      1.00         2\n",
      "                                                                                ipset create myset hash:ip       1.00      1.00      1.00         2\n",
      "                                                                                                ipset list       0.40      1.00      0.57         2\n",
      "                                                                                            iptables -L -v       1.00      1.00      1.00         2\n",
      "                                                                                         iptraf-ng -i eth0       0.50      0.50      0.50         2\n",
      "                                                                                                   jobs -l       1.00      1.00      1.00         2\n",
      "                                                                           join -t ',' file1.txt file2.txt       1.00      0.50      0.67         2\n",
      "                                                                                  join file1.txt file2.txt       1.00      1.00      1.00         3\n",
      "                                                                                             journalctl -b       0.00      0.00      0.00         2\n",
      "                                                                                        journalctl -p 3 -b       1.00      0.50      0.67         2\n",
      "                                                                                       journalctl -u nginx       1.00      0.50      0.67         2\n",
      "                                                                                              kill -9 1234       0.00      0.00      0.00         3\n",
      "                                                                                        kill -SIGKILL 1234       0.40      0.67      0.50         3\n",
      "                                                                                        kill -SIGTERM 1234       0.25      0.50      0.33         2\n",
      "                                                                                                 kill 1234       0.00      0.00      0.00         3\n",
      "                                                                                             killall nginx       0.50      0.33      0.40         3\n",
      "                                                                                                      last       0.00      0.00      0.00         2\n",
      "                                                                                                   last -x       1.00      0.50      0.67         2\n",
      "                                                                                                   lastlog       0.33      0.50      0.40         2\n",
      "                                                                                       less +F logfile.txt       0.00      0.00      0.00         2\n",
      "                                                                                       less +G logfile.txt       0.50      0.50      0.50         2\n",
      "                                                                                       less -M logfile.txt       0.00      0.00      0.00         2\n",
      "                                                                                       less -N logfile.txt       1.00      1.00      1.00         2\n",
      "                                                                                       less -S logfile.txt       1.00      0.33      0.50         3\n",
      "                                                                                       less -X logfile.txt       1.00      0.50      0.67         2\n",
      "                                                                                       less -i logfile.txt       0.38      1.00      0.56         5\n",
      "                                                                                       less -r logfile.txt       1.00      0.50      0.67         2\n",
      "                                                                                       less -u logfile.txt       1.00      1.00      1.00         2\n",
      "                                                                                        less largefile.txt       1.00      1.00      1.00         2\n",
      "                                                                          ln -s /etc/config.conf link.conf       1.00      1.00      1.00         3\n",
      "                                                                                    ln file1.txt file2.txt       1.00      1.00      1.00         3\n",
      "                                                                                     logger 'Test message'       1.00      1.00      1.00         2\n",
      "                                                                          logrotate -f /etc/logrotate.conf       1.00      1.00      1.00         2\n",
      "                                                                                        look word file.txt       0.67      1.00      0.80         2\n",
      "                                                                                           ls --color=auto       1.00      0.50      0.67         2\n",
      "                                                                                                     ls -1       0.22      1.00      0.36         5\n",
      "                                                                                                     ls -F       1.00      0.33      0.50         3\n",
      "                                                                                                     ls -R       0.00      0.00      0.00         3\n",
      "                                                                                                     ls -S       1.00      0.67      0.80         3\n",
      "                                                                                                     ls -X       1.00      0.50      0.67         2\n",
      "                                                                                                  ls -d */       1.00      1.00      1.00         2\n",
      "                                                                                                     ls -i       0.00      0.00      0.00         2\n",
      "                                                                                                    ls -la       1.00      0.67      0.80         3\n",
      "                                                                                                    ls -lh       1.00      1.00      1.00         2\n",
      "                                                                                                     ls -r       1.00      0.33      0.50         3\n",
      "                                                                                                     ls -t       0.00      0.00      0.00         2\n",
      "                                                                                           lsattr -R /data       1.00      1.00      1.00         2\n",
      "                                                                                           lsattr file.txt       0.50      1.00      0.67         2\n",
      "                                                                                                     lsblk       1.00      0.67      0.80         3\n",
      "                                                                                                  lsblk -J       0.67      0.67      0.67         3\n",
      "                                                                                                  lsblk -f       0.50      1.00      0.67         2\n",
      "                                                                                   lsblk -o NAME,SIZE,TYPE       0.67      1.00      0.80         2\n",
      "                                                                                                  lsblk -p       1.00      1.00      1.00         3\n",
      "                                                                                                  lscgroup       1.00      1.00      1.00         3\n",
      "                                                                                                     lscpu       0.00      0.00      0.00         2\n",
      "                                                                                                  lscpu -J       1.00      0.67      0.80         3\n",
      "                                                                                                  lscpu -b       1.00      1.00      1.00         2\n",
      "                                                                                                  lscpu -e       0.33      0.50      0.40         2\n",
      "                                                                                                  lscpu -p       0.00      0.00      0.00         2\n",
      "                                                                                                     lsdev       0.50      0.33      0.40         3\n",
      "                                                                                               lshw -short       1.00      1.00      1.00         3\n",
      "                                                                                                     lsipc       1.00      0.33      0.50         3\n",
      "                                                                                                   lslocks       1.00      1.00      1.00         2\n",
      "                                                                                                  lslogins       1.00      0.33      0.50         3\n",
      "                                                                                                     lsmem       1.00      1.00      1.00         3\n",
      "                                                                                                     lsmod       1.00      1.00      1.00         2\n",
      "                                                                                                      lsns       1.00      0.50      0.67         2\n",
      "                                                                                               lsns -t pid       1.00      1.00      1.00         2\n",
      "                                                                                               lsof -i :80       1.00      0.50      0.67         2\n",
      "                                                                                   lsof -iTCP -sTCP:LISTEN       1.00      0.50      0.67         2\n",
      "                                                                                              lsof -p 1234       0.50      0.33      0.40         3\n",
      "                                                                                            lsof -t -i :80       1.00      1.00      1.00         2\n",
      "                                                                                                    lsscsi       1.00      1.00      1.00         2\n",
      "                                                                                         ltrace -S -p 1234       0.67      1.00      0.80         2\n",
      "                                                                                            ltrace -p 1234       1.00      1.00      1.00         2\n",
      "                                                                                         lzcat file.txt.lz       1.00      1.00      1.00         2\n",
      "                                                                                          lzip -z file.txt       1.00      1.00      1.00         2\n",
      "                                                                                   mkdir -m 700 secure_dir       1.00      1.00      1.00         3\n",
      "                                                                                  mkdir -p /path/to/newdir       1.00      1.00      1.00         2\n",
      "                                                                                              mkdir newdir       1.00      1.00      1.00         2\n",
      "                                                                                               mkfifo pipe       1.00      1.00      1.00         2\n",
      "                                                                                      mkfs.btrfs /dev/sdb1       1.00      1.00      1.00         2\n",
      "                                                                                   mknod /dev/mynode c 1 3       1.00      1.00      1.00         2\n",
      "                                                                                          mkswap /dev/sdb1       0.00      0.00      0.00         2\n",
      "                                                                                            mtr google.com       1.00      1.00      1.00         3\n",
      "                                                                                       mv -b file.txt /tmp       0.00      0.00      0.00         3\n",
      "                                                                                       mv -f file.txt /tmp       0.00      0.00      0.00         3\n",
      "                                                                                       mv -i file.txt /tmp       0.00      0.00      0.00         2\n",
      "                                                                                       mv -n file.txt /tmp       0.25      0.80      0.38         5\n",
      "                                                                                       mv -u dir1 /archive       1.00      1.00      1.00         2\n",
      "                                                                                          mv dir1 /archive       1.00      1.00      1.00         2\n",
      "                                                                                          mv file.txt /tmp       0.00      0.00      0.00         3\n",
      "                                                                                mv oldname.txt newname.txt       1.00      1.00      1.00         2\n",
      "                                                                                      nano +10 config.conf       0.00      0.00      0.00         2\n",
      "                                                                                       nano -B config.conf       1.00      0.50      0.67         2\n",
      "                                                                                       nano -E config.conf       0.00      0.00      0.00         3\n",
      "                                                                                     nano -T 4 config.conf       0.67      0.67      0.67         3\n",
      "                                                                                       nano -c config.conf       0.38      1.00      0.56         5\n",
      "                                                                                       nano -l config.conf       0.50      0.50      0.50         2\n",
      "                                                                                    nano -r 80 config.conf       1.00      0.50      0.67         2\n",
      "                                                                                       nano -w config.conf       0.50      0.50      0.50         2\n",
      "                                                                                          nano config.conf       1.00      1.00      1.00         2\n",
      "                                                                                ncat --ssl 192.168.1.1 443       1.00      1.00      1.00         2\n",
      "                                                                                           netcat -l 12345       1.00      1.00      1.00         3\n",
      "                                                                                 netcat -zv 192.168.1.1 22       1.00      1.00      1.00         2\n",
      "                                                                                               netstat -an       1.00      0.50      0.67         2\n",
      "                                                                                                netstat -i       0.50      1.00      0.67         3\n",
      "                                                                                                netstat -r       0.00      0.00      0.00         3\n",
      "                                                                                                netstat -s       1.00      0.33      0.50         3\n",
      "                                                                                     netstat -s | grep Tcp       1.00      0.67      0.80         3\n",
      "                                                                                            netstat -tulpn       0.29      1.00      0.44         2\n",
      "                                                                                              newgrp group       0.00      0.00      0.00         2\n",
      "                                                                                          nft list ruleset       1.00      1.00      1.00         2\n",
      "                                                                                   ngrep -q 'HTTP' port 80       1.00      1.00      1.00         2\n",
      "                                                                                        nice -n 10 command       1.00      1.00      1.00         3\n",
      "                                                                                  nl -w 2 -s ': ' file.txt       1.00      0.50      0.67         2\n",
      "                                                                                               nl file.txt       1.00      0.50      0.67         2\n",
      "                                                                                                nload eth0       0.75      1.00      0.86         3\n",
      "                                                                                      nmap -sV 192.168.1.1       1.00      0.67      0.80         3\n",
      "                                                                                            nmap localhost       1.00      1.00      1.00         3\n",
      "                                                                                           nohup command &       1.00      0.33      0.50         3\n",
      "                                                                             nping --tcp -p 80 192.168.1.1       1.00      1.00      1.00         2\n",
      "                                                                                            nscd -i passwd       1.00      1.00      1.00         2\n",
      "                                                                                       nslookup google.com       1.00      0.67      0.80         3\n",
      "                                                                                        numactl --hardware       0.67      1.00      0.80         2\n",
      "                                                                                    od -A d -t d4 file.bin       1.00      1.00      1.00         2\n",
      "                                                                                            od -c file.bin       1.00      1.00      1.00         2\n",
      "                                                                                         od -t x4 file.bin       1.00      0.33      0.50         3\n",
      "                                                                                                 parted -l       1.00      0.50      0.67         2\n",
      "                                                                                         partx -s /dev/sda       0.60      1.00      0.75         3\n",
      "                                                                                            passwd -l user       0.00      0.00      0.00         3\n",
      "                                                                                            passwd -u user       0.00      0.00      0.00         2\n",
      "                                                                                            passwd newuser       1.00      1.00      1.00         3\n",
      "                                                                                         paste -s file.txt       1.00      0.33      0.50         3\n",
      "                                                                                 paste file1.txt file2.txt       0.00      0.00      0.00         3\n",
      "                                                                                       perf record -p 1234       1.00      0.50      0.67         2\n",
      "                                                                                               perf report       1.00      1.00      1.00         3\n",
      "                                                                                         perf stat -p 1234       0.50      1.00      0.67         2\n",
      "                                                                                               pgrep nginx       0.40      1.00      0.57         2\n",
      "                                                                                               pidof nginx       0.00      0.00      0.00         3\n",
      "                                                                                            pidstat -d 1 3       0.50      1.00      0.67         2\n",
      "                                                                                            pidstat -w 1 3       1.00      1.00      1.00         3\n",
      "                                                                                     ping -c 2 192.168.1.1       0.62      1.00      0.77         5\n",
      "                                                                                      ping -c 4 google.com       1.00      1.00      1.00         2\n",
      "                                                                                    ping -s 100 google.com       1.00      1.00      1.00         3\n",
      "                                                                                              ping 8.8.8.8       0.00      0.00      0.00         2\n",
      "                                                                                            pkill -9 nginx       0.00      0.00      0.00         3\n",
      "                                                                                             pkill -u user       0.00      0.00      0.00         3\n",
      "                                                                                              pmap -x 1234       1.00      1.00      1.00         3\n",
      "                                                                                                      popd       0.00      0.00      0.00         2\n",
      "                                                                                            pr -d file.txt       1.00      1.00      1.00         2\n",
      "                                                                                            pr -t file.txt       1.00      0.50      0.67         2\n",
      "                                                                          prlimit --pid 1234 --nofile=1024       1.00      1.00      1.00         3\n",
      "                                                                                               ps -C nginx       1.00      1.00      1.00         2\n",
      "                                                                                                    ps -ef       1.00      0.50      0.67         2\n",
      "                                                                                                ps -p 1234       0.00      0.00      0.00         3\n",
      "                                                                                                ps -u user       0.00      0.00      0.00         3\n",
      "                                                                                                    ps aux       1.00      1.00      1.00         2\n",
      "                                                                                                 pstree -p       1.00      0.50      0.67         2\n",
      "                                                                                                  pushd +2       0.75      1.00      0.86         3\n",
      "                                                                                             pushd -n /tmp       1.00      1.00      1.00         2\n",
      "                                                                                            pushd /var/log       1.00      0.50      0.67         2\n",
      "                                                                                                      pwck       1.00      1.00      1.00         2\n",
      "                                                                                                    pwconv       1.00      0.50      0.67         2\n",
      "                                                                                                       pwd       0.00      0.00      0.00         2\n",
      "                                                                                                    pwd -L       1.00      0.67      0.80         3\n",
      "                                                                                                    pwd -P       1.00      0.50      0.67         2\n",
      "                                                                                             pwgen -s 16 1       1.00      1.00      1.00         2\n",
      "                                                                                             renice 5 1234       1.00      1.00      1.00         3\n",
      "                                                                                    restore -rf backup.tar       1.00      1.00      1.00         3\n",
      "                                                                                    restorecon -v /var/log       0.67      1.00      0.80         2\n",
      "                                                                                              rev file.txt       0.00      0.00      0.00         3\n",
      "                                                                                            rm -f file.txt       0.00      0.00      0.00         2\n",
      "                                                                                            rm -i file.txt       0.00      0.00      0.00         3\n",
      "                                                                                                rm -r dir1       1.00      1.00      1.00         2\n",
      "                                                                                          rm -rf directory       1.00      0.67      0.80         3\n",
      "                                                                                            rm -v file.txt       0.17      0.80      0.28         5\n",
      "                                                                                               rm file.txt       0.00      0.00      0.00         2\n",
      "                                                                                           rmdir empty_dir       1.00      1.00      1.00         2\n",
      "                                                                                                  route -n       0.00      0.00      0.00         3\n",
      "                                                                                              rpm -V nginx       1.00      1.00      1.00         2\n",
      "                                                                                    rpm -qf /usr/bin/nginx       0.33      0.50      0.40         2\n",
      "                                                                                       rsync -av /src /dst       1.00      1.00      1.00         3\n",
      "                                                                                            sar -n DEV 1 3       1.00      1.00      1.00         2\n",
      "                                                                                                sar -u 1 3       1.00      0.50      0.67         2\n",
      "                                                                                       semanage boolean -l       0.50      1.00      0.67         2\n",
      "                                              semanage fcontext -a -t httpd_sys_content_t '/var/www(/.*)?'       1.00      0.33      0.50         3\n",
      "                                                                                      semanage fcontext -l       1.00      0.50      0.67         2\n",
      "                                                                                         semanage login -l       0.67      1.00      0.80         2\n",
      "                                                               semanage port -a -t http_port_t -p tcp 8080       1.00      1.00      1.00         2\n",
      "                                                                                          semanage port -l       1.00      0.50      0.67         2\n",
      "                                                                                          semanage user -l       0.33      0.50      0.40         2\n",
      "                                                                                       setfacl -R -b /data       0.50      0.50      0.50         2\n",
      "                                                                             setfacl -R -m u:user:rx /data       1.00      0.67      0.80         3\n",
      "                                                                                       setfacl -b file.txt       0.00      0.00      0.00         3\n",
      "                                                                            setfacl -d -m u:user:rwx /data       1.00      0.33      0.50         3\n",
      "                                                                             setfacl -m u:user:rw file.txt       1.00      1.00      1.00         3\n",
      "                                                                                setfacl -x u:user file.txt       0.50      1.00      0.67         2\n",
      "                                                               setfattr -n user.comment -v 'Test' file.txt       1.00      1.00      1.00         2\n",
      "                                                                     setsebool -P httpd_enable_homedirs on       1.00      0.67      0.80         3\n",
      "                                                                                         shred -u file.txt       0.00      0.00      0.00         3\n",
      "                                                                                                   slabtop       1.00      0.67      0.80         3\n",
      "                                                                                          sort -R file.txt       1.00      0.33      0.50         3\n",
      "                                                                                             sort file.txt       0.50      0.50      0.50         2\n",
      "                                                                                 split -b 1M largefile.txt       1.00      1.00      1.00         2\n",
      "                                                                            split -l 1000 file.txt prefix-       1.00      1.00      1.00         2\n",
      "                                                                                                  ss -H -o       1.00      1.00      1.00         3\n",
      "                                                                                                     ss -M       1.00      0.67      0.80         3\n",
      "                                                                                                   ss -anp       0.00      0.00      0.00         3\n",
      "                                                                                                  ss -tuln       0.00      0.00      0.00         3\n",
      "                                                                                                 ss -tulwn       0.50      1.00      0.67         2\n",
      "                                                                                             stat file.txt       1.00      0.50      0.67         2\n",
      "                                                                                         strace -c -p 1234       0.00      0.00      0.00         2\n",
      "                                                                                            strace -p 1234       0.33      1.00      0.50         2\n",
      "                                                                                     strings -n 10 /bin/ls       1.00      0.67      0.80         3\n",
      "                                                                                           strings /bin/ls       0.40      1.00      0.57         2\n",
      "                                                                                         swapoff /dev/sdb1       0.00      0.00      0.00         3\n",
      "                                                                                          swapon /dev/sdb1       0.25      1.00      0.40         2\n",
      "                                                                                                      sync       1.00      0.33      0.50         3\n",
      "                                                                                                 sysctl -a       1.00      1.00      1.00         3\n",
      "                                                                                         sysdig -c netstat       1.00      1.00      1.00         3\n",
      "                                                                                       systemctl cat nginx       0.67      1.00      0.80         2\n",
      "                                                                                systemctl is-enabled nginx       1.00      1.00      1.00         2\n",
      "                                                                         systemctl list-dependencies nginx       0.00      0.00      0.00         3\n",
      "                                                                                    systemctl status nginx       1.00      0.50      0.67         2\n",
      "                                                                                     systemd-analyze blame       1.00      1.00      1.00         2\n",
      "                                                                            systemd-analyze critical-chain       1.00      1.00      1.00         2\n",
      "                                                                                             systemd-cgtop       1.00      1.00      1.00         2\n",
      "                                                                                              tac file.txt       0.00      0.00      0.00         2\n",
      "                                                                                     tail -c 100 error.log       1.00      1.00      1.00         3\n",
      "                                                                                         tail -f error.log       0.00      0.00      0.00         3\n",
      "                                                                                      tail -n +2 error.log       0.50      1.00      0.67         2\n",
      "                                                                                    tail -n 0 -f error.log       0.00      0.00      0.00         3\n",
      "                                                                                      tail -n 10 error.log       1.00      1.00      1.00         2\n",
      "                                                                                      tail -n 5 access.log       0.00      0.00      0.00         2\n",
      "                                                                          tail -q -n 3 file1.txt file2.txt       0.23      1.00      0.37         5\n",
      "                                                                                    tail -v -n 2 error.log       1.00      1.00      1.00         2\n",
      "                                                                 tar --acls --xattrs -cpf backup.tar /data       1.00      1.00      1.00         3\n",
      "                                                                                      taskset -cp 0-3 1234       1.00      1.00      1.00         2\n",
      "                                                                                             tc qdisc show       1.00      1.00      1.00         2\n",
      "                                                                                        tcpdump -X -i eth0       1.00      1.00      1.00         2\n",
      "                                                                                           tcpdump -i eth0       0.40      1.00      0.57         2\n",
      "                                                                                   tcpdump -i eth0 port 80       1.00      0.67      0.80         3\n",
      "                                                                                   tcpflow -i eth0 port 80       1.00      1.00      1.00         2\n",
      "                                                                                           tee -a file.txt       0.67      1.00      0.80         2\n",
      "                                                                                              tee file.txt       1.00      0.67      0.80         3\n",
      "                                                                                              time command       1.00      0.50      0.67         2\n",
      "                                                                                       timeout 10s command       1.00      1.00      1.00         2\n",
      "                                                                                                       top       0.00      0.00      0.00         2\n",
      "                                                                                               top -b -n 1       0.00      0.00      0.00         3\n",
      "                                                                                                  top -n 1       0.25      0.33      0.29         3\n",
      "                                                                                               top -u user       0.67      1.00      0.80         2\n",
      "                                                                                         touch -a file.txt       0.67      0.67      0.67         3\n",
      "                                                                                         touch -c file.txt       1.00      0.50      0.67         2\n",
      "                                                                                         touch -m file.txt       0.50      0.50      0.50         2\n",
      "                                                                            touch -t 202505211200 file.txt       1.00      1.00      1.00         2\n",
      "                                                                                         touch newfile.txt       1.00      1.00      1.00         2\n",
      "                                                                      trace-cmd record -p function -P 1234       1.00      0.67      0.80         3\n",
      "                                                                                          trace-cmd report       0.67      1.00      0.80         2\n",
      "                                                                                     traceroute google.com       1.00      1.00      1.00         3\n",
      "                                                                  tree -if --noreport /etc | grep '.conf$'       1.00      0.50      0.67         2\n",
      "                                                                                   truncate -s 1M file.txt       1.00      1.00      1.00         2\n",
      "                                                                                      tshark -i eth0 -c 10       1.00      1.00      1.00         3\n",
      "                                                                                            tsort file.txt       1.00      1.00      1.00         2\n",
      "                                                                                      tune2fs -l /dev/sda1       0.50      0.50      0.50         2\n",
      "                                                                                            ulimit -n 1024       1.00      1.00      1.00         2\n",
      "                                                                                                  uname -a       0.67      0.67      0.67         3\n",
      "                                                                                                  uname -i       1.00      0.50      0.67         2\n",
      "                                                                                                  uname -m       0.25      0.50      0.33         2\n",
      "                                                                                                  uname -n       0.36      1.00      0.53         5\n",
      "                                                                                                  uname -o       1.00      1.00      1.00         2\n",
      "                                                                                                  uname -r       0.67      1.00      0.80         2\n",
      "                                                                                    unexpand -t 4 file.txt       0.50      0.50      0.50         2\n",
      "                                                                                         unexpand file.txt       0.50      0.50      0.50         2\n",
      "                                                                                          uniq -c file.txt       1.00      0.33      0.50         3\n",
      "                                                                                             uniq file.txt       1.00      0.33      0.50         3\n",
      "                                                                                                    uptime       1.00      0.67      0.80         3\n",
      "                                                                            useradd -m -s /bin/zsh newuser       1.00      1.00      1.00         2\n",
      "                                                                                       userdel -r testuser       1.00      1.00      1.00         2\n",
      "                                                                                  usermod -aG sudo newuser       1.00      1.00      1.00         2\n",
      "                                                                               usermod -c 'Full Name' user       0.50      0.50      0.50         2\n",
      "                                                                                usermod -e 2025-12-31 user       0.40      1.00      0.57         2\n",
      "                                                                                          vim +10 file.txt       1.00      0.50      0.67         2\n",
      "                                                                                vim -O file1.txt file2.txt       1.00      0.50      0.67         2\n",
      "                                                                                           vim -R file.txt       0.27      1.00      0.42         7\n",
      "                                                                                           vim -b file.bin       0.00      0.00      0.00         2\n",
      "                                                                              vim -c 'set number' file.txt       0.00      0.00      0.00         3\n",
      "                                                                                     vim -es -S script.vim       1.00      0.33      0.50         3\n",
      "                                                                                vim -o file1.txt file2.txt       1.00      1.00      1.00         2\n",
      "                                                                                      vim -u NONE file.txt       0.00      0.00      0.00         2\n",
      "                                                                                              vim file.txt       0.00      0.00      0.00         3\n",
      "                                                                                                vmstat -SM       1.00      0.67      0.80         3\n",
      "                                                                                                 vmstat -d       1.00      1.00      1.00         3\n",
      "                                                                                                 vmstat -s       0.33      1.00      0.50         2\n",
      "                                                                                                vmstat 2 5       0.00      0.00      0.00         3\n",
      "                                                                                                         w       0.00      0.00      0.00         2\n",
      "                                                                                  watch -d 'netstat -tuln'       0.00      0.00      0.00         2\n",
      "                                                                                         watch -n 1 'date'       1.00      1.00      1.00         3\n",
      "                                                                                            wc -c file.txt       0.67      1.00      0.80         2\n",
      "                                                                                            wc -l file.txt       0.33      0.33      0.33         3\n",
      "                                                                                            wc -w file.txt       1.00      1.00      1.00         2\n",
      "                                                                                                       who       0.29      1.00      0.44         2\n",
      "                                                                                                    who -H       0.00      0.00      0.00         2\n",
      "                                                                                                    who -T       1.00      1.00      1.00         2\n",
      "                                                                                                    who -b       0.33      0.50      0.40         2\n",
      "                                                                                                    who -r       1.00      0.67      0.80         3\n",
      "                                                                                                    who -u       0.33      0.50      0.40         2\n",
      "                                                                                                    whoami       0.36      0.80      0.50         5\n",
      "                                                                                       xfs_db -r /dev/sda1       0.67      1.00      0.80         2\n",
      "                                                                                        xfs_info /dev/sda1       0.67      1.00      0.80         2\n",
      "                                                       xfs_quota -x -c 'limit bsoft=1g bhard=2g user' /mnt       1.00      1.00      1.00         3\n",
      "                                                                                      xfs_repair /dev/sda1       1.00      0.67      0.80         3\n",
      "                                                                                           xxd -i file.txt       1.00      1.00      1.00         2\n",
      "                                                                            xxd -r -p hexdump.txt file.bin       0.75      1.00      0.86         3\n",
      "                                                                                              xxd file.bin       1.00      1.00      1.00         3\n",
      "                                                                                            xz -z file.txt       0.67      1.00      0.80         2\n",
      "                                                                                         xzcat file.txt.xz       1.00      0.67      0.80         3\n",
      "                                                                                          yum check-update       0.36      0.80      0.50         5\n",
      "                                                                                         yum deplist httpd       1.00      0.33      0.50         3\n",
      "                                                                      yum groupinstall 'Development Tools'       1.00      1.00      1.00         2\n",
      "                                                                                               yum history       1.00      1.00      1.00         3\n",
      "                                                                                        yum history info 1       1.00      1.00      1.00         2\n",
      "                                                                                            yum info httpd       0.75      1.00      0.86         3\n",
      "                                                                                         yum install httpd       0.25      0.50      0.33         2\n",
      "                                                                             yum provides /usr/bin/python3       1.00      1.00      1.00         2\n",
      "                                                                                       yum reinstall httpd       1.00      1.00      1.00         3\n",
      "                                                                                          yum remove httpd       1.00      0.33      0.50         3\n",
      "                                                                                                yum update       0.00      0.00      0.00         2\n",
      "                                                                                           zcat logfile.gz       0.33      0.50      0.40         2\n",
      "                                                                                    zcmp file1.gz file2.gz       0.50      0.67      0.57         3\n",
      "                                                                                   zdiff file1.gz file2.gz       0.50      0.33      0.40         3\n",
      "                                                                                          zless logfile.gz       0.00      0.00      0.00         3\n",
      "                                                                                          zmore logfile.gz       0.67      1.00      0.80         2\n",
      "                                                                                           znew logfile.gz       1.00      1.00      1.00         3\n",
      "                                                                                          zstd -z file.txt       1.00      1.00      1.00         2\n",
      "                                                                                      zstdcat file.txt.zst       1.00      1.00      1.00         2\n",
      "\n",
      "                                                                                                  accuracy                           0.67      1478\n",
      "                                                                                                 macro avg       0.69      0.67      0.65      1478\n",
      "                                                                                              weighted avg       0.68      0.67      0.63      1478\n",
      "\n"
     ]
    },
    {
     "name": "stderr",
     "output_type": "stream",
     "text": [
      "C:\\Users\\harsh\\AppData\\Local\\Programs\\Python\\Python312\\Lib\\site-packages\\sklearn\\metrics\\_classification.py:1531: UndefinedMetricWarning: Precision is ill-defined and being set to 0.0 in labels with no predicted samples. Use `zero_division` parameter to control this behavior.\n",
      "  _warn_prf(average, modifier, f\"{metric.capitalize()} is\", len(result))\n",
      "C:\\Users\\harsh\\AppData\\Local\\Programs\\Python\\Python312\\Lib\\site-packages\\sklearn\\metrics\\_classification.py:1531: UndefinedMetricWarning: Precision is ill-defined and being set to 0.0 in labels with no predicted samples. Use `zero_division` parameter to control this behavior.\n",
      "  _warn_prf(average, modifier, f\"{metric.capitalize()} is\", len(result))\n",
      "C:\\Users\\harsh\\AppData\\Local\\Programs\\Python\\Python312\\Lib\\site-packages\\sklearn\\metrics\\_classification.py:1531: UndefinedMetricWarning: Precision is ill-defined and being set to 0.0 in labels with no predicted samples. Use `zero_division` parameter to control this behavior.\n",
      "  _warn_prf(average, modifier, f\"{metric.capitalize()} is\", len(result))\n"
     ]
    }
   ],
   "source": [
    "import pandas as pd\n",
    "from sklearn.model_selection import train_test_split\n",
    "from sklearn.feature_extraction.text import TfidfVectorizer\n",
    "from sklearn.linear_model import LogisticRegression\n",
    "from sklearn.pipeline import Pipeline\n",
    "from sklearn.metrics import classification_report\n",
    "\n",
    "# Load dataset\n",
    "df = pd.read_csv(\"all_merged(no dups).csv\")\n",
    "\n",
    "X = df[\"user_query\"]\n",
    "y = df[\"command\"]\n",
    "\n",
    "X_train, X_test, y_train, y_test = train_test_split(X, y, test_size=0.2, stratify=y)\n",
    "\n",
    "# Pipeline: TF-IDF + Logistic Regression\n",
    "model = Pipeline([\n",
    "    (\"tfidf\", TfidfVectorizer()),\n",
    "    (\"clf\", LogisticRegression(max_iter=3000))\n",
    "])\n",
    "\n",
    "model.fit(X_train, y_train)\n",
    "y_pred = model.predict(X_test)\n",
    "\n",
    "print(classification_report(y_test, y_pred))\n"
   ]
  },
  {
   "cell_type": "code",
   "execution_count": 15,
   "id": "e8912505-121a-48f1-ad94-416e35e84a1c",
   "metadata": {},
   "outputs": [
    {
     "name": "stdout",
     "output_type": "stream",
     "text": [
      "\n",
      "Query: show me all files in this folder with details\n",
      "  → dirs -c (score=0.4365)\n",
      "  → dirs -p (score=0.4249)\n",
      "  → dirs -v (score=0.3922)\n",
      "\n",
      "Query: open file.txt in read only mode using vim\n",
      "  → vim file.txt (score=0.7027)\n",
      "  → vim -u NONE file.txt (score=0.6749)\n",
      "  → vim -R file.txt (score=0.6727)\n",
      "\n",
      "Query: how to refresh htop every half second\n",
      "  → htop (score=0.5557)\n",
      "  → htop -u user (score=0.5180)\n",
      "  → htop -t (score=0.5085)\n",
      "\n",
      "Query: remove unused dependencies in fedora\n",
      "  → apt autoremove (score=0.4001)\n",
      "  → systemctl list-dependencies nginx (score=0.3789)\n",
      "  → dnf autoremove (score=0.3586)\n"
     ]
    }
   ],
   "source": [
    "import pandas as pd\n",
    "import torch\n",
    "from sentence_transformers import SentenceTransformer, util\n",
    "\n",
    "# ----------------------------\n",
    "# 1. Load your dataset\n",
    "# ----------------------------\n",
    "# Example CSV structure: user_query,command,description\n",
    "df = pd.read_csv(\"all_merged(no dups).csv\")\n",
    "\n",
    "# Unique command set\n",
    "commands = df['command'].unique().tolist()\n",
    "\n",
    "# ----------------------------\n",
    "# 2. Load a Sentence-BERT model\n",
    "# ----------------------------\n",
    "# all-MiniLM-L6-v2 is lightweight and works well for semantic similarity\n",
    "model = SentenceTransformer('all-MiniLM-L6-v2')\n",
    "\n",
    "# ----------------------------\n",
    "# 3. Encode all commands once\n",
    "# ----------------------------\n",
    "command_embeddings = model.encode(commands, convert_to_tensor=True)\n",
    "\n",
    "# ----------------------------\n",
    "# 4. Function: get best match\n",
    "# ----------------------------\n",
    "def get_best_command(query, top_k=3):\n",
    "    query_embedding = model.encode(query, convert_to_tensor=True)\n",
    "    \n",
    "    # Compute cosine similarity\n",
    "    cosine_scores = util.pytorch_cos_sim(query_embedding, command_embeddings)[0]\n",
    "    \n",
    "    # Get top_k results\n",
    "    top_results = torch.topk(cosine_scores, k=top_k)\n",
    "    \n",
    "    matches = []\n",
    "    for score, idx in zip(top_results[0], top_results[1]):\n",
    "        matches.append({\n",
    "            \"command\": commands[idx],\n",
    "            \"score\": float(score)\n",
    "        })\n",
    "    return matches\n",
    "\n",
    "# ----------------------------\n",
    "# 5. Test with new queries\n",
    "# ----------------------------\n",
    "test_queries = [\n",
    "    \"show me all files in this folder with details\",\n",
    "    \"open file.txt in read only mode using vim\",\n",
    "    \"how to refresh htop every half second\",\n",
    "    \"remove unused dependencies in fedora\"\n",
    "]\n",
    "\n",
    "for q in test_queries:\n",
    "    print(f\"\\nQuery: {q}\")\n",
    "    results = get_best_command(q)\n",
    "    for r in results:\n",
    "        print(f\"  → {r['command']} (score={r['score']:.4f})\")\n"
   ]
  },
  {
   "cell_type": "code",
   "execution_count": 25,
   "id": "fd173292-a279-403f-9c92-88d90f040dea",
   "metadata": {},
   "outputs": [],
   "source": [
    "# import pandas as pd\n",
    "# import torch\n",
    "# from sentence_transformers import SentenceTransformer, util\n",
    "\n",
    "# # Load dataset\n",
    "# df = pd.read_csv(\"all_merged(no_dups).csv\")\n",
    "\n",
    "# # Instead of just commands, combine command + description\n",
    "# df['cmd_text'] = df['command'] + \" : \" + df['description']\n",
    "\n",
    "# # Unique targets\n",
    "# cmd_texts = df['cmd_text'].unique().tolist()\n",
    "\n",
    "# # Load a better semantic model (optimized for Q&A/retrieval)\n",
    "# model = SentenceTransformer('multi-qa-mpnet-base-dot-v1')\n",
    "\n",
    "# # Encode commands+descriptions\n",
    "# cmd_embeddings = model.encode(cmd_texts, convert_to_tensor=True)\n",
    "\n",
    "# def get_best_command(query, top_k=3):\n",
    "#     query_embedding = model.encode(query, convert_to_tensor=True)\n",
    "#     scores = util.cos_sim(query_embedding, cmd_embeddings)[0]\n",
    "#     top_results = torch.topk(scores, k=top_k)\n",
    "    \n",
    "#     matches = []\n",
    "#     for score, idx in zip(top_results[0], top_results[1]):\n",
    "#         matches.append({\n",
    "#             \"cmd_text\": cmd_texts[idx],\n",
    "#             \"score\": float(score)\n",
    "#         })\n",
    "#     return matches\n",
    "\n",
    "# # Test\n",
    "# queries = [\n",
    "#     \"show me all files in this folder with details\",\n",
    "#     \"open file.txt in read only mode using vim\",\n",
    "#     \"how to refresh htop every half second\",\n",
    "#     \"remove unused dependencies in fedora\"\n",
    "# ]\n",
    "\n",
    "# for q in queries:\n",
    "#     print(f\"\\nQuery: {q}\")\n",
    "#     results = get_best_command(q)\n",
    "#     for r in results:\n",
    "#         print(f\"  → {r['cmd_text']} (score={r['score']:.4f})\")\n"
   ]
  },
  {
   "cell_type": "code",
   "execution_count": 22,
   "id": "9a524f4d-307d-4948-89b7-d34fe0c4029a",
   "metadata": {},
   "outputs": [
    {
     "name": "stdout",
     "output_type": "stream",
     "text": [
      "\n",
      "Query: show me all files in this folder with details\n",
      "  → ls -d */ (matched 'Show me only the directories in this folder') score=0.7997\n",
      "  → ls -R (matched 'Show me all files and directories, including those nested within others') score=0.7784\n",
      "  → ls -la (matched 'I need to see everything in this folder, including dot files, with their full attributes') score=0.7776\n",
      "\n",
      "Query: open file.txt in read only mode using vim\n",
      "  → vim -R file.txt (matched 'Open file.txt in Vim in read-only mode') score=0.9893\n",
      "  → vim -R file.txt (matched 'Please open file.txt using Vim in read-only mode') score=0.9741\n",
      "  → vim -R file.txt (matched 'How do I open `file.txt` with Vim in read-only mode?') score=0.9665\n",
      "\n",
      "Query: how to refresh htop every half second\n",
      "  → htop -d 5 (matched 'How do I run `htop` so it refreshes every 0.5 seconds?') score=0.9170\n",
      "  → htop -d 5 (matched 'How do I launch htop so it updates every half second?') score=0.8931\n",
      "  → htop -d 5 (matched 'How can I get `htop` to refresh twice a second?') score=0.8754\n",
      "\n",
      "Query: remove unused dependencies in fedora\n",
      "  → dnf autoremove (matched 'How do I remove unused dependencies on Fedora?') score=0.9743\n",
      "  → dnf autoremove (matched 'I want to remove unused dependencies from my system') score=0.7980\n",
      "  → apt autoremove (matched 'What's the command to clean up unused dependencies?') score=0.7786\n"
     ]
    }
   ],
   "source": [
    "import pandas as pd\n",
    "import torch\n",
    "from sentence_transformers import SentenceTransformer, util\n",
    "\n",
    "# Load dataset\n",
    "df = pd.read_csv(\"commands.csv\")\n",
    "\n",
    "# Use user queries directly\n",
    "queries_list = df['user_query'].tolist()\n",
    "commands_list = df['command'].tolist()\n",
    "\n",
    "# Load semantic model\n",
    "model = SentenceTransformer('multi-qa-mpnet-base-dot-v1')\n",
    "\n",
    "# Encode all queries\n",
    "query_embeddings = model.encode(queries_list, convert_to_tensor=True)\n",
    "\n",
    "def get_best_command(user_input, top_k=3):\n",
    "    input_emb = model.encode(user_input, convert_to_tensor=True)\n",
    "    scores = util.cos_sim(input_emb, query_embeddings)[0]\n",
    "    top_results = torch.topk(scores, k=top_k)\n",
    "    \n",
    "    matches = []\n",
    "    for score, idx in zip(top_results[0], top_results[1]):\n",
    "        matches.append({\n",
    "            \"user_query\": queries_list[idx],\n",
    "            \"command\": commands_list[idx],\n",
    "            \"score\": float(score)\n",
    "        })\n",
    "    return matches\n",
    "\n",
    "# Test\n",
    "test_queries = [\n",
    "    \"show me all files in this folder with details\",\n",
    "    \"open file.txt in read only mode using vim\",\n",
    "    \"how to refresh htop every half second\",\n",
    "    \"remove unused dependencies in fedora\"\n",
    "]\n",
    "\n",
    "for q in test_queries:\n",
    "    print(f\"\\nQuery: {q}\")\n",
    "    results = get_best_command(q)\n",
    "    for r in results:\n",
    "        print(f\"  → {r['command']} (matched '{r['user_query']}') score={r['score']:.4f}\")\n"
   ]
  },
  {
   "cell_type": "code",
   "execution_count": 23,
   "id": "df6c15a1-d53a-4410-89e1-070445907b76",
   "metadata": {},
   "outputs": [],
   "source": [
    "def get_best_command(user_input, top_k=3):\n",
    "    input_emb = model.encode(user_input, convert_to_tensor=True)\n",
    "    scores = util.cos_sim(input_emb, query_embeddings)[0]\n",
    "    top_results = torch.topk(scores, k=len(scores))  # check all scores\n",
    "\n",
    "    seen_commands = set()\n",
    "    matches = []\n",
    "\n",
    "    for score, idx in zip(top_results[0], top_results[1]):\n",
    "        cmd = commands_list[idx]\n",
    "        if cmd not in seen_commands:\n",
    "            matches.append({\n",
    "                \"user_query\": queries_list[idx],\n",
    "                \"command\": cmd,\n",
    "                \"score\": float(score)\n",
    "            })\n",
    "            seen_commands.add(cmd)\n",
    "        if len(matches) >= top_k:\n",
    "            break\n",
    "\n",
    "    return matches\n"
   ]
  },
  {
   "cell_type": "code",
   "execution_count": 24,
   "id": "92d98df8-9913-4bb8-834f-86e0ed94c6d4",
   "metadata": {},
   "outputs": [
    {
     "name": "stdout",
     "output_type": "stream",
     "text": [
      "\n",
      "Query: show me all files in this folder with details\n",
      "  → ls -d */ (matched 'Show me only the directories in this folder') score=0.7997\n",
      "  → ls -R (matched 'Show me all files and directories, including those nested within others') score=0.7784\n",
      "  → ls -la (matched 'I need to see everything in this folder, including dot files, with their full attributes') score=0.7776\n",
      "\n",
      "Query: open file.txt in read only mode using vim\n",
      "  → vim -R file.txt (matched 'Open file.txt in Vim in read-only mode') score=0.9893\n",
      "  → vim file.txt (matched 'Please open file.txt using Vim') score=0.8068\n",
      "  → vim -u NONE file.txt (matched 'Run Vim on `file.txt` in a clean mode, ignoring `.vimrc`') score=0.7464\n",
      "\n",
      "Query: how to refresh htop every half second\n",
      "  → htop -d 5 (matched 'How do I run `htop` so it refreshes every 0.5 seconds?') score=0.9170\n",
      "  → htop (matched 'Execute the htop command') score=0.6853\n",
      "  → htop -u user (matched 'Monitor processes for 'user' using `htop`') score=0.6008\n",
      "\n",
      "Query: remove unused dependencies in fedora\n",
      "  → dnf autoremove (matched 'How do I remove unused dependencies on Fedora?') score=0.9743\n",
      "  → apt autoremove (matched 'What's the command to clean up unused dependencies?') score=0.7786\n",
      "  → dnf repoquery --installed (matched 'Please list every package installed on this Fedora system') score=0.6638\n"
     ]
    }
   ],
   "source": [
    "# Test\n",
    "test_queries = [\n",
    "    \"show me all files in this folder with details\",\n",
    "    \"open file.txt in read only mode using vim\",\n",
    "    \"how to refresh htop every half second\",\n",
    "    \"remove unused dependencies in fedora\"\n",
    "]\n",
    "\n",
    "for q in test_queries:\n",
    "    print(f\"\\nQuery: {q}\")\n",
    "    results = get_best_command(q)\n",
    "    for r in results:\n",
    "        print(f\"  → {r['command']} (matched '{r['user_query']}') score={r['score']:.4f}\")\n"
   ]
  },
  {
   "cell_type": "code",
   "execution_count": 26,
   "id": "2b8200e5-388a-47d5-a254-69cf8e05833b",
   "metadata": {},
   "outputs": [],
   "source": [
    "model.save(\"saved_model\")        # save\n"
   ]
  },
  {
   "cell_type": "code",
   "execution_count": 27,
   "id": "8181dfc5-f1d0-4c9f-8bb0-8b9777ad10b9",
   "metadata": {},
   "outputs": [],
   "source": [
    "torch.save(query_embeddings, \"query_embeddings.pt\")  # save\n",
    "\n"
   ]
  },
  {
   "cell_type": "code",
   "execution_count": 28,
   "id": "678af2ec-e257-4112-8b60-8bb9f27bdfa4",
   "metadata": {},
   "outputs": [],
   "source": [
    "\n",
    "torch.save(commands_list, \"commands_list.pt\")   # save the list too"
   ]
  },
  {
   "cell_type": "code",
   "execution_count": null,
   "id": "e30be345-5515-4dd5-afca-57b4ab6490cd",
   "metadata": {},
   "outputs": [],
   "source": []
  }
 ],
 "metadata": {
  "kernelspec": {
   "display_name": "Python 3 (ipykernel)",
   "language": "python",
   "name": "python3"
  },
  "language_info": {
   "codemirror_mode": {
    "name": "ipython",
    "version": 3
   },
   "file_extension": ".py",
   "mimetype": "text/x-python",
   "name": "python",
   "nbconvert_exporter": "python",
   "pygments_lexer": "ipython3",
   "version": "3.12.4"
  },
  "widgets": {
   "application/vnd.jupyter.widget-state+json": {
    "state": {
     "031aac87ab414d049500d35fcd3d31ab": {
      "model_module": "@jupyter-widgets/controls",
      "model_module_version": "2.0.0",
      "model_name": "ProgressStyleModel",
      "state": {
       "description_width": ""
      }
     },
     "03af8fa1a68e47f69cf5fe36b4009b09": {
      "model_module": "@jupyter-widgets/controls",
      "model_module_version": "2.0.0",
      "model_name": "FloatProgressModel",
      "state": {
       "bar_style": "success",
       "layout": "IPY_MODEL_292d35bc7557452bbe6f2864af1bab73",
       "max": 239,
       "style": "IPY_MODEL_21ffe8c98f20485ebf3c6b7e5686f178",
       "value": 239
      }
     },
     "0483ecf45cc3450e9decefa9facf2d9e": {
      "model_module": "@jupyter-widgets/base",
      "model_module_version": "2.0.0",
      "model_name": "LayoutModel",
      "state": {}
     },
     "05aa531bf0bf47c7946ff4d6219c0fcf": {
      "model_module": "@jupyter-widgets/controls",
      "model_module_version": "2.0.0",
      "model_name": "ProgressStyleModel",
      "state": {
       "description_width": ""
      }
     },
     "0acafd46d0f449598be7af09ff94628b": {
      "model_module": "@jupyter-widgets/controls",
      "model_module_version": "2.0.0",
      "model_name": "HBoxModel",
      "state": {
       "children": [
        "IPY_MODEL_1359e1a0c97944a69fa4027bd8b9dc78",
        "IPY_MODEL_90f0dc69d37b46879bad95f90a1be833",
        "IPY_MODEL_557b5e3a0ea04978ba4848629270724b"
       ],
       "layout": "IPY_MODEL_e37a7ea2bf4f425ca832953fefa325be"
      }
     },
     "0ba34e27c7f54765ae6c8c2438c5588f": {
      "model_module": "@jupyter-widgets/controls",
      "model_module_version": "2.0.0",
      "model_name": "FloatProgressModel",
      "state": {
       "bar_style": "success",
       "layout": "IPY_MODEL_55f85f24832346a58c6dd92e0798e7ad",
       "max": 363,
       "style": "IPY_MODEL_c0e28a4bf17b471a97aeb5be2716689e",
       "value": 363
      }
     },
     "0dfea76d53184894871a1475e61a406b": {
      "model_module": "@jupyter-widgets/controls",
      "model_module_version": "2.0.0",
      "model_name": "HTMLModel",
      "state": {
       "layout": "IPY_MODEL_dfb311553e744fd2a770da31f0e617d9",
       "style": "IPY_MODEL_3dc852ef2ceb4df485bfd9b67ca552b6",
       "value": " 363/363 [00:00&lt;00:00, 36.3kB/s]"
      }
     },
     "0fe4f287b5bd412a94f965f42748091b": {
      "model_module": "@jupyter-widgets/controls",
      "model_module_version": "2.0.0",
      "model_name": "HBoxModel",
      "state": {
       "children": [
        "IPY_MODEL_b5d83dd87d214f7580878dd593be91ea",
        "IPY_MODEL_03af8fa1a68e47f69cf5fe36b4009b09",
        "IPY_MODEL_38557f7161b14957a67b9ac6756594c0"
       ],
       "layout": "IPY_MODEL_cfccd6f1f49e47dba350116d72fff583"
      }
     },
     "121f71d5f5ee459cb289922327312b12": {
      "model_module": "@jupyter-widgets/controls",
      "model_module_version": "2.0.0",
      "model_name": "HTMLModel",
      "state": {
       "layout": "IPY_MODEL_3b485b0956224bd999deb5e1cdd20ff6",
       "style": "IPY_MODEL_912fb3249f3e41048b139a7bb47834ec",
       "value": " 229/229 [00:00&lt;00:00, 11.9kB/s]"
      }
     },
     "12c642f1083e4ef59a8c20bd573833d4": {
      "model_module": "@jupyter-widgets/base",
      "model_module_version": "2.0.0",
      "model_name": "LayoutModel",
      "state": {}
     },
     "1359e1a0c97944a69fa4027bd8b9dc78": {
      "model_module": "@jupyter-widgets/controls",
      "model_module_version": "2.0.0",
      "model_name": "HTMLModel",
      "state": {
       "layout": "IPY_MODEL_a79d5045940948f8bbca6b3083f43e5d",
       "style": "IPY_MODEL_cc3de0629d53426681594e6572311462",
       "value": "sentence_bert_config.json: 100%"
      }
     },
     "141e95d5d1bc49fd99bcb8be15862942": {
      "model_module": "@jupyter-widgets/controls",
      "model_module_version": "2.0.0",
      "model_name": "HTMLModel",
      "state": {
       "layout": "IPY_MODEL_bd679eca2cea4be68afb2f0b3aa38bc1",
       "style": "IPY_MODEL_374c6501c47b4b9dbd837ef40a8da544",
       "value": " 232k/? [00:00&lt;00:00, 2.37MB/s]"
      }
     },
     "1618d892c7184489818b9a553a9344ad": {
      "model_module": "@jupyter-widgets/controls",
      "model_module_version": "2.0.0",
      "model_name": "HBoxModel",
      "state": {
       "children": [
        "IPY_MODEL_49ad56ee2e78436681667fcb1023c037",
        "IPY_MODEL_a837e9e4aac24630b2e844fa78246581",
        "IPY_MODEL_121f71d5f5ee459cb289922327312b12"
       ],
       "layout": "IPY_MODEL_61f1ab72ba8544b592a7a90a44db4222"
      }
     },
     "161f51ad70e14e75b5f5331cc1ff91a2": {
      "model_module": "@jupyter-widgets/controls",
      "model_module_version": "2.0.0",
      "model_name": "HTMLModel",
      "state": {
       "layout": "IPY_MODEL_c9ae3bd39d8246219a013ae3b49decdc",
       "style": "IPY_MODEL_ef3736dd0a0f494f82ac5679061960a3",
       "value": "README.md: "
      }
     },
     "1bbc392a58be4a35b23cff7ccd67b1b8": {
      "model_module": "@jupyter-widgets/controls",
      "model_module_version": "2.0.0",
      "model_name": "FloatProgressModel",
      "state": {
       "bar_style": "success",
       "layout": "IPY_MODEL_e25d208c320e4bda823212233c9b8ebf",
       "max": 1,
       "style": "IPY_MODEL_e30843c53e55498bb3d3f43a4721ed90",
       "value": 1
      }
     },
     "1c112c5397784c6ab22cdf69f9bb3893": {
      "model_module": "@jupyter-widgets/controls",
      "model_module_version": "2.0.0",
      "model_name": "HTMLModel",
      "state": {
       "layout": "IPY_MODEL_5dbf2b8adf744947b34d9a1b3494265e",
       "style": "IPY_MODEL_43f4728276eb4621b00fd6b7df0ac8db",
       "value": "model.safetensors:   5%"
      }
     },
     "1c5534d33a7f4a1eb8dad851b3500244": {
      "model_module": "@jupyter-widgets/controls",
      "model_module_version": "2.0.0",
      "model_name": "HTMLModel",
      "state": {
       "layout": "IPY_MODEL_58a04d326b654e4890de05e5ab829e3e",
       "style": "IPY_MODEL_f779c783585446baa6a0864c83f0b12c",
       "value": " 9.95k/? [00:00&lt;00:00, 427kB/s]"
      }
     },
     "1fe9c9c446e445b58a7982554b073247": {
      "model_module": "@jupyter-widgets/base",
      "model_module_version": "2.0.0",
      "model_name": "LayoutModel",
      "state": {}
     },
     "2082ef0cb6ac410abbefa8e2ddfc4683": {
      "model_module": "@jupyter-widgets/base",
      "model_module_version": "2.0.0",
      "model_name": "LayoutModel",
      "state": {}
     },
     "21ffe8c98f20485ebf3c6b7e5686f178": {
      "model_module": "@jupyter-widgets/controls",
      "model_module_version": "2.0.0",
      "model_name": "ProgressStyleModel",
      "state": {
       "description_width": ""
      }
     },
     "2370d337812a432caa94fbc1bbb8d639": {
      "model_module": "@jupyter-widgets/controls",
      "model_module_version": "2.0.0",
      "model_name": "HTMLModel",
      "state": {
       "layout": "IPY_MODEL_34d6637085fe4acb80b7c7e9a1b4fc7a",
       "style": "IPY_MODEL_90685446a49245f2b4bdd3eb76dee450",
       "value": "model.safetensors: 100%"
      }
     },
     "242688db1e0247ae94f9c119e8ae2eb9": {
      "model_module": "@jupyter-widgets/base",
      "model_module_version": "2.0.0",
      "model_name": "LayoutModel",
      "state": {}
     },
     "2765e43ef2494cbd849c6ece1d41ad5c": {
      "model_module": "@jupyter-widgets/controls",
      "model_module_version": "2.0.0",
      "model_name": "HTMLStyleModel",
      "state": {
       "description_width": "",
       "font_size": null,
       "text_color": null
      }
     },
     "27ca44c437bd4c48b08489064b29c989": {
      "model_module": "@jupyter-widgets/controls",
      "model_module_version": "2.0.0",
      "model_name": "HTMLModel",
      "state": {
       "layout": "IPY_MODEL_e3ee7ce1f8784b72921ae0bc82b46d99",
       "style": "IPY_MODEL_9bb223c74b88490dbaa47d41b07916d3",
       "value": "config.json: 100%"
      }
     },
     "292d35bc7557452bbe6f2864af1bab73": {
      "model_module": "@jupyter-widgets/base",
      "model_module_version": "2.0.0",
      "model_name": "LayoutModel",
      "state": {}
     },
     "2979a014432949269f5cce76ce1ba6e2": {
      "model_module": "@jupyter-widgets/base",
      "model_module_version": "2.0.0",
      "model_name": "LayoutModel",
      "state": {}
     },
     "2aa6ede2c0504a5b8b2bc73864a63cd3": {
      "model_module": "@jupyter-widgets/controls",
      "model_module_version": "2.0.0",
      "model_name": "HTMLStyleModel",
      "state": {
       "description_width": "",
       "font_size": null,
       "text_color": null
      }
     },
     "2ba87fccec234e4caa607a7d9302842c": {
      "model_module": "@jupyter-widgets/base",
      "model_module_version": "2.0.0",
      "model_name": "LayoutModel",
      "state": {}
     },
     "2dac6f7b58c847cb8cc3e785bb582160": {
      "model_module": "@jupyter-widgets/controls",
      "model_module_version": "2.0.0",
      "model_name": "HBoxModel",
      "state": {
       "children": [
        "IPY_MODEL_b98fb1d96fd440a8b213bcc67d3a7014",
        "IPY_MODEL_8136dc53f52a4eab8a3433565f555bb7",
        "IPY_MODEL_a1a1bc5c7a694392b5a0abaac1a705a7"
       ],
       "layout": "IPY_MODEL_3cb75fff46a14a1fbc650d908febd08c"
      }
     },
     "2ee09c815f9443fdb64b6a083abe9774": {
      "model_module": "@jupyter-widgets/base",
      "model_module_version": "2.0.0",
      "model_name": "LayoutModel",
      "state": {}
     },
     "34b30c86d03b4a3aaf935d23a52c3a06": {
      "model_module": "@jupyter-widgets/controls",
      "model_module_version": "2.0.0",
      "model_name": "HTMLModel",
      "state": {
       "layout": "IPY_MODEL_623d85730d35442aa5fa37b3cc7ed09e",
       "style": "IPY_MODEL_e2c615d257cb4149b0115eb2458d9ff4",
       "value": " 10.5M/438M [00:06&lt;02:27, 2.90MB/s]"
      }
     },
     "34d6637085fe4acb80b7c7e9a1b4fc7a": {
      "model_module": "@jupyter-widgets/base",
      "model_module_version": "2.0.0",
      "model_name": "LayoutModel",
      "state": {}
     },
     "374c6501c47b4b9dbd837ef40a8da544": {
      "model_module": "@jupyter-widgets/controls",
      "model_module_version": "2.0.0",
      "model_name": "HTMLStyleModel",
      "state": {
       "description_width": "",
       "font_size": null,
       "text_color": null
      }
     },
     "38557f7161b14957a67b9ac6756594c0": {
      "model_module": "@jupyter-widgets/controls",
      "model_module_version": "2.0.0",
      "model_name": "HTMLModel",
      "state": {
       "layout": "IPY_MODEL_0483ecf45cc3450e9decefa9facf2d9e",
       "style": "IPY_MODEL_3d57505ddbb24fb6b3b736088c8d6ba0",
       "value": " 239/239 [00:00&lt;00:00, 26.8kB/s]"
      }
     },
     "3960019252964341b856ff9725e80dd3": {
      "model_module": "@jupyter-widgets/controls",
      "model_module_version": "2.0.0",
      "model_name": "HBoxModel",
      "state": {
       "children": [
        "IPY_MODEL_a3eb3c16f11f4d4789cec189d33533f3",
        "IPY_MODEL_1bbc392a58be4a35b23cff7ccd67b1b8",
        "IPY_MODEL_a9268e00c27942f69bdef4c3af089c98"
       ],
       "layout": "IPY_MODEL_671365fd046141b0adfe61934cfe56a4"
      }
     },
     "3b485b0956224bd999deb5e1cdd20ff6": {
      "model_module": "@jupyter-widgets/base",
      "model_module_version": "2.0.0",
      "model_name": "LayoutModel",
      "state": {}
     },
     "3ca7296f455f46619881445684b50087": {
      "model_module": "@jupyter-widgets/controls",
      "model_module_version": "2.0.0",
      "model_name": "ProgressStyleModel",
      "state": {
       "description_width": ""
      }
     },
     "3cb75fff46a14a1fbc650d908febd08c": {
      "model_module": "@jupyter-widgets/base",
      "model_module_version": "2.0.0",
      "model_name": "LayoutModel",
      "state": {}
     },
     "3d57505ddbb24fb6b3b736088c8d6ba0": {
      "model_module": "@jupyter-widgets/controls",
      "model_module_version": "2.0.0",
      "model_name": "HTMLStyleModel",
      "state": {
       "description_width": "",
       "font_size": null,
       "text_color": null
      }
     },
     "3dc852ef2ceb4df485bfd9b67ca552b6": {
      "model_module": "@jupyter-widgets/controls",
      "model_module_version": "2.0.0",
      "model_name": "HTMLStyleModel",
      "state": {
       "description_width": "",
       "font_size": null,
       "text_color": null
      }
     },
     "3eed179399e045e5851e834e6941b4cd": {
      "model_module": "@jupyter-widgets/base",
      "model_module_version": "2.0.0",
      "model_name": "LayoutModel",
      "state": {}
     },
     "3ef0f5563f704a0f9a713ddc233d4b3e": {
      "model_module": "@jupyter-widgets/controls",
      "model_module_version": "2.0.0",
      "model_name": "HTMLStyleModel",
      "state": {
       "description_width": "",
       "font_size": null,
       "text_color": null
      }
     },
     "4283eda19fe74305842c7dd8e69cc390": {
      "model_module": "@jupyter-widgets/controls",
      "model_module_version": "2.0.0",
      "model_name": "FloatProgressModel",
      "state": {
       "bar_style": "success",
       "layout": "IPY_MODEL_2082ef0cb6ac410abbefa8e2ddfc4683",
       "max": 571,
       "style": "IPY_MODEL_05aa531bf0bf47c7946ff4d6219c0fcf",
       "value": 571
      }
     },
     "43f4728276eb4621b00fd6b7df0ac8db": {
      "model_module": "@jupyter-widgets/controls",
      "model_module_version": "2.0.0",
      "model_name": "HTMLStyleModel",
      "state": {
       "description_width": "",
       "font_size": null,
       "text_color": null
      }
     },
     "4807b87e5dc240d6b9d2fe45afdf16a1": {
      "model_module": "@jupyter-widgets/controls",
      "model_module_version": "2.0.0",
      "model_name": "HTMLStyleModel",
      "state": {
       "description_width": "",
       "font_size": null,
       "text_color": null
      }
     },
     "48929b4f08a04dce92480684deb9abde": {
      "model_module": "@jupyter-widgets/controls",
      "model_module_version": "2.0.0",
      "model_name": "FloatProgressModel",
      "state": {
       "bar_style": "success",
       "layout": "IPY_MODEL_a717b7a7561f44ebb5516a07040cbcdd",
       "max": 212,
       "style": "IPY_MODEL_67f7eeb9b8104c55a991228619a16d99",
       "value": 212
      }
     },
     "49ad56ee2e78436681667fcb1023c037": {
      "model_module": "@jupyter-widgets/controls",
      "model_module_version": "2.0.0",
      "model_name": "HTMLModel",
      "state": {
       "layout": "IPY_MODEL_2ba87fccec234e4caa607a7d9302842c",
       "style": "IPY_MODEL_2aa6ede2c0504a5b8b2bc73864a63cd3",
       "value": "modules.json: 100%"
      }
     },
     "4fbcf93b3d0549a7b395648e345f328e": {
      "model_module": "@jupyter-widgets/controls",
      "model_module_version": "2.0.0",
      "model_name": "HTMLStyleModel",
      "state": {
       "description_width": "",
       "font_size": null,
       "text_color": null
      }
     },
     "54a5006e579c4f4da310d9dcb5cde1d5": {
      "model_module": "@jupyter-widgets/base",
      "model_module_version": "2.0.0",
      "model_name": "LayoutModel",
      "state": {}
     },
     "557b5e3a0ea04978ba4848629270724b": {
      "model_module": "@jupyter-widgets/controls",
      "model_module_version": "2.0.0",
      "model_name": "HTMLModel",
      "state": {
       "layout": "IPY_MODEL_242688db1e0247ae94f9c119e8ae2eb9",
       "style": "IPY_MODEL_fab2b38a08f2401f90b208b219c378b2",
       "value": " 53.0/53.0 [00:00&lt;00:00, 3.40kB/s]"
      }
     },
     "55f85f24832346a58c6dd92e0798e7ad": {
      "model_module": "@jupyter-widgets/base",
      "model_module_version": "2.0.0",
      "model_name": "LayoutModel",
      "state": {}
     },
     "566a8932c8b048efab8c16d0ba1b6fe0": {
      "model_module": "@jupyter-widgets/controls",
      "model_module_version": "2.0.0",
      "model_name": "HTMLStyleModel",
      "state": {
       "description_width": "",
       "font_size": null,
       "text_color": null
      }
     },
     "573e9c181d8e462890d5ed575d9ce0f8": {
      "model_module": "@jupyter-widgets/controls",
      "model_module_version": "2.0.0",
      "model_name": "HTMLStyleModel",
      "state": {
       "description_width": "",
       "font_size": null,
       "text_color": null
      }
     },
     "58a04d326b654e4890de05e5ab829e3e": {
      "model_module": "@jupyter-widgets/base",
      "model_module_version": "2.0.0",
      "model_name": "LayoutModel",
      "state": {}
     },
     "58a43ff1e78042f9b0770d290ced59ea": {
      "model_module": "@jupyter-widgets/controls",
      "model_module_version": "2.0.0",
      "model_name": "ProgressStyleModel",
      "state": {
       "description_width": ""
      }
     },
     "5b9c34fab7fe456f968f29908ba4a049": {
      "model_module": "@jupyter-widgets/base",
      "model_module_version": "2.0.0",
      "model_name": "LayoutModel",
      "state": {}
     },
     "5dbf2b8adf744947b34d9a1b3494265e": {
      "model_module": "@jupyter-widgets/base",
      "model_module_version": "2.0.0",
      "model_name": "LayoutModel",
      "state": {}
     },
     "5f9a61a2bb9d4d2fa34f0811ea3c5b7a": {
      "model_module": "@jupyter-widgets/controls",
      "model_module_version": "2.0.0",
      "model_name": "HTMLModel",
      "state": {
       "layout": "IPY_MODEL_1fe9c9c446e445b58a7982554b073247",
       "style": "IPY_MODEL_f717df2bc11044aabf53b670ba97afa5",
       "value": " 21.0M/438M [00:04&lt;02:06, 3.30MB/s]"
      }
     },
     "61f1ab72ba8544b592a7a90a44db4222": {
      "model_module": "@jupyter-widgets/base",
      "model_module_version": "2.0.0",
      "model_name": "LayoutModel",
      "state": {}
     },
     "623d85730d35442aa5fa37b3cc7ed09e": {
      "model_module": "@jupyter-widgets/base",
      "model_module_version": "2.0.0",
      "model_name": "LayoutModel",
      "state": {}
     },
     "6525c574639a4be0a6f4d35f705c4428": {
      "model_module": "@jupyter-widgets/base",
      "model_module_version": "2.0.0",
      "model_name": "LayoutModel",
      "state": {}
     },
     "671365fd046141b0adfe61934cfe56a4": {
      "model_module": "@jupyter-widgets/base",
      "model_module_version": "2.0.0",
      "model_name": "LayoutModel",
      "state": {}
     },
     "67cad416c2b44539b997fc0c9ccbaf52": {
      "model_module": "@jupyter-widgets/controls",
      "model_module_version": "2.0.0",
      "model_name": "ProgressStyleModel",
      "state": {
       "description_width": ""
      }
     },
     "67f7eeb9b8104c55a991228619a16d99": {
      "model_module": "@jupyter-widgets/controls",
      "model_module_version": "2.0.0",
      "model_name": "ProgressStyleModel",
      "state": {
       "description_width": ""
      }
     },
     "68032a9122ad4667b7d90b59d13e4aad": {
      "model_module": "@jupyter-widgets/base",
      "model_module_version": "2.0.0",
      "model_name": "LayoutModel",
      "state": {}
     },
     "693347eed3bd4c1ebdd922544fcae6ac": {
      "model_module": "@jupyter-widgets/controls",
      "model_module_version": "2.0.0",
      "model_name": "FloatProgressModel",
      "state": {
       "bar_style": "success",
       "layout": "IPY_MODEL_6c87fe71ed4c4b2287809cc87088ece9",
       "max": 437971872,
       "style": "IPY_MODEL_af195b5745dc4c8f956b9e6c7032a346",
       "value": 437971872
      }
     },
     "697b73ab9ece48a88a71a9f68886a295": {
      "model_module": "@jupyter-widgets/controls",
      "model_module_version": "2.0.0",
      "model_name": "FloatProgressModel",
      "state": {
       "bar_style": "success",
       "layout": "IPY_MODEL_cc470ba1d1434ca8986dfa5052bf4f9a",
       "max": 1,
       "style": "IPY_MODEL_58a43ff1e78042f9b0770d290ced59ea",
       "value": 1
      }
     },
     "6bd2e8c72d7447a283e2257dccf3382d": {
      "model_module": "@jupyter-widgets/controls",
      "model_module_version": "2.0.0",
      "model_name": "HBoxModel",
      "state": {
       "children": [
        "IPY_MODEL_7f493b22e4e44f0bbfd31dd29b172d26",
        "IPY_MODEL_48929b4f08a04dce92480684deb9abde",
        "IPY_MODEL_b2e638bf7ae244b29db165d0d1971cd0"
       ],
       "layout": "IPY_MODEL_705a14e9c8744865aa190da16fae7ed1"
      }
     },
     "6c17d15f2ccb4ca2909aa407eaa66fd2": {
      "model_module": "@jupyter-widgets/base",
      "model_module_version": "2.0.0",
      "model_name": "LayoutModel",
      "state": {}
     },
     "6c87fe71ed4c4b2287809cc87088ece9": {
      "model_module": "@jupyter-widgets/base",
      "model_module_version": "2.0.0",
      "model_name": "LayoutModel",
      "state": {}
     },
     "6fb41db89f694e27ba324a5307869aa3": {
      "model_module": "@jupyter-widgets/controls",
      "model_module_version": "2.0.0",
      "model_name": "HTMLModel",
      "state": {
       "layout": "IPY_MODEL_2ee09c815f9443fdb64b6a083abe9774",
       "style": "IPY_MODEL_8ce97c0f55aa413ea3b6df9769fee472",
       "value": " 571/571 [00:00&lt;00:00, 63.5kB/s]"
      }
     },
     "705a14e9c8744865aa190da16fae7ed1": {
      "model_module": "@jupyter-widgets/base",
      "model_module_version": "2.0.0",
      "model_name": "LayoutModel",
      "state": {}
     },
     "720cf562afc04152b26a5ee0fb149d3b": {
      "model_module": "@jupyter-widgets/controls",
      "model_module_version": "2.0.0",
      "model_name": "HTMLModel",
      "state": {
       "layout": "IPY_MODEL_ffad242d6d4b4e1ca15e8ed379a628b0",
       "style": "IPY_MODEL_ab4a194e9013440ebb8efdd25b8ad94c",
       "value": " 438M/438M [01:46&lt;00:00, 3.10MB/s]"
      }
     },
     "736e07945dc84fb99c40c1d8301011e4": {
      "model_module": "@jupyter-widgets/controls",
      "model_module_version": "2.0.0",
      "model_name": "HBoxModel",
      "state": {
       "children": [
        "IPY_MODEL_161f51ad70e14e75b5f5331cc1ff91a2",
        "IPY_MODEL_e6f97c226aa04b3387bb6dc3bb0724a2",
        "IPY_MODEL_1c5534d33a7f4a1eb8dad851b3500244"
       ],
       "layout": "IPY_MODEL_f6d2dde70bd1421ba02ee50583e3981c"
      }
     },
     "7664aa1a510e4c14a9533abb03302a78": {
      "model_module": "@jupyter-widgets/base",
      "model_module_version": "2.0.0",
      "model_name": "LayoutModel",
      "state": {}
     },
     "767402033bfc49719d7aa0018d985c6b": {
      "model_module": "@jupyter-widgets/controls",
      "model_module_version": "2.0.0",
      "model_name": "HBoxModel",
      "state": {
       "children": [
        "IPY_MODEL_2370d337812a432caa94fbc1bbb8d639",
        "IPY_MODEL_693347eed3bd4c1ebdd922544fcae6ac",
        "IPY_MODEL_720cf562afc04152b26a5ee0fb149d3b"
       ],
       "layout": "IPY_MODEL_6525c574639a4be0a6f4d35f705c4428"
      }
     },
     "7c452439a0284e9481f8cc85d906ece9": {
      "model_module": "@jupyter-widgets/base",
      "model_module_version": "2.0.0",
      "model_name": "LayoutModel",
      "state": {}
     },
     "7f493b22e4e44f0bbfd31dd29b172d26": {
      "model_module": "@jupyter-widgets/controls",
      "model_module_version": "2.0.0",
      "model_name": "HTMLModel",
      "state": {
       "layout": "IPY_MODEL_7c452439a0284e9481f8cc85d906ece9",
       "style": "IPY_MODEL_ed4b6624a03245f09631b2e9639b2c29",
       "value": "config_sentence_transformers.json: 100%"
      }
     },
     "8136dc53f52a4eab8a3433565f555bb7": {
      "model_module": "@jupyter-widgets/controls",
      "model_module_version": "2.0.0",
      "model_name": "FloatProgressModel",
      "state": {
       "bar_style": "success",
       "layout": "IPY_MODEL_94f59235d2664abc9557524e0d4d9181",
       "max": 190,
       "style": "IPY_MODEL_3ca7296f455f46619881445684b50087",
       "value": 190
      }
     },
     "8311850d655d49098894f3576e57a06b": {
      "model_module": "@jupyter-widgets/base",
      "model_module_version": "2.0.0",
      "model_name": "LayoutModel",
      "state": {}
     },
     "8a709d31a79c4a4188bc98ebe3c743f3": {
      "model_module": "@jupyter-widgets/controls",
      "model_module_version": "2.0.0",
      "model_name": "HBoxModel",
      "state": {
       "children": [
        "IPY_MODEL_d02b36717776430991b65e951163c582",
        "IPY_MODEL_0ba34e27c7f54765ae6c8c2438c5588f",
        "IPY_MODEL_0dfea76d53184894871a1475e61a406b"
       ],
       "layout": "IPY_MODEL_7664aa1a510e4c14a9533abb03302a78"
      }
     },
     "8bbce99bb8474eeda1ffcd98a48ffb33": {
      "model_module": "@jupyter-widgets/controls",
      "model_module_version": "2.0.0",
      "model_name": "ProgressStyleModel",
      "state": {
       "description_width": ""
      }
     },
     "8ce97c0f55aa413ea3b6df9769fee472": {
      "model_module": "@jupyter-widgets/controls",
      "model_module_version": "2.0.0",
      "model_name": "HTMLStyleModel",
      "state": {
       "description_width": "",
       "font_size": null,
       "text_color": null
      }
     },
     "90685446a49245f2b4bdd3eb76dee450": {
      "model_module": "@jupyter-widgets/controls",
      "model_module_version": "2.0.0",
      "model_name": "HTMLStyleModel",
      "state": {
       "description_width": "",
       "font_size": null,
       "text_color": null
      }
     },
     "90f0dc69d37b46879bad95f90a1be833": {
      "model_module": "@jupyter-widgets/controls",
      "model_module_version": "2.0.0",
      "model_name": "FloatProgressModel",
      "state": {
       "bar_style": "success",
       "layout": "IPY_MODEL_54a5006e579c4f4da310d9dcb5cde1d5",
       "max": 53,
       "style": "IPY_MODEL_a67b61eaecf04122b26c1acf55aa8c96",
       "value": 53
      }
     },
     "912fb3249f3e41048b139a7bb47834ec": {
      "model_module": "@jupyter-widgets/controls",
      "model_module_version": "2.0.0",
      "model_name": "HTMLStyleModel",
      "state": {
       "description_width": "",
       "font_size": null,
       "text_color": null
      }
     },
     "94f59235d2664abc9557524e0d4d9181": {
      "model_module": "@jupyter-widgets/base",
      "model_module_version": "2.0.0",
      "model_name": "LayoutModel",
      "state": {}
     },
     "9bb223c74b88490dbaa47d41b07916d3": {
      "model_module": "@jupyter-widgets/controls",
      "model_module_version": "2.0.0",
      "model_name": "HTMLStyleModel",
      "state": {
       "description_width": "",
       "font_size": null,
       "text_color": null
      }
     },
     "9c6626b1c6934f48a9bb454ea247c154": {
      "model_module": "@jupyter-widgets/base",
      "model_module_version": "2.0.0",
      "model_name": "LayoutModel",
      "state": {}
     },
     "9cdce7965ff74f139a122f9d1f0b2fca": {
      "model_module": "@jupyter-widgets/controls",
      "model_module_version": "2.0.0",
      "model_name": "FloatProgressModel",
      "state": {
       "bar_style": "danger",
       "layout": "IPY_MODEL_ce28cd73c64b4fb88633be26f29bd7a5",
       "max": 437971872,
       "style": "IPY_MODEL_db6db2c323a643e7bc4a1546998730c7",
       "value": 10485760
      }
     },
     "a1a1bc5c7a694392b5a0abaac1a705a7": {
      "model_module": "@jupyter-widgets/controls",
      "model_module_version": "2.0.0",
      "model_name": "HTMLModel",
      "state": {
       "layout": "IPY_MODEL_8311850d655d49098894f3576e57a06b",
       "style": "IPY_MODEL_3ef0f5563f704a0f9a713ddc233d4b3e",
       "value": " 190/190 [00:00&lt;00:00, 21.1kB/s]"
      }
     },
     "a3eb3c16f11f4d4789cec189d33533f3": {
      "model_module": "@jupyter-widgets/controls",
      "model_module_version": "2.0.0",
      "model_name": "HTMLModel",
      "state": {
       "layout": "IPY_MODEL_a698afc2f2484f068bb2b5e17d6056b6",
       "style": "IPY_MODEL_4fbcf93b3d0549a7b395648e345f328e",
       "value": "tokenizer.json: "
      }
     },
     "a67b61eaecf04122b26c1acf55aa8c96": {
      "model_module": "@jupyter-widgets/controls",
      "model_module_version": "2.0.0",
      "model_name": "ProgressStyleModel",
      "state": {
       "description_width": ""
      }
     },
     "a698afc2f2484f068bb2b5e17d6056b6": {
      "model_module": "@jupyter-widgets/base",
      "model_module_version": "2.0.0",
      "model_name": "LayoutModel",
      "state": {}
     },
     "a717b7a7561f44ebb5516a07040cbcdd": {
      "model_module": "@jupyter-widgets/base",
      "model_module_version": "2.0.0",
      "model_name": "LayoutModel",
      "state": {}
     },
     "a74c310febca4903b6a6490cba61b476": {
      "model_module": "@jupyter-widgets/controls",
      "model_module_version": "2.0.0",
      "model_name": "HBoxModel",
      "state": {
       "children": [
        "IPY_MODEL_27ca44c437bd4c48b08489064b29c989",
        "IPY_MODEL_4283eda19fe74305842c7dd8e69cc390",
        "IPY_MODEL_6fb41db89f694e27ba324a5307869aa3"
       ],
       "layout": "IPY_MODEL_e0e127ae306f44af96a644904860fda8"
      }
     },
     "a79d5045940948f8bbca6b3083f43e5d": {
      "model_module": "@jupyter-widgets/base",
      "model_module_version": "2.0.0",
      "model_name": "LayoutModel",
      "state": {}
     },
     "a837e9e4aac24630b2e844fa78246581": {
      "model_module": "@jupyter-widgets/controls",
      "model_module_version": "2.0.0",
      "model_name": "FloatProgressModel",
      "state": {
       "bar_style": "success",
       "layout": "IPY_MODEL_5b9c34fab7fe456f968f29908ba4a049",
       "max": 229,
       "style": "IPY_MODEL_031aac87ab414d049500d35fcd3d31ab",
       "value": 229
      }
     },
     "a91451cbe68b458494b9e12a2b7daa2a": {
      "model_module": "@jupyter-widgets/controls",
      "model_module_version": "2.0.0",
      "model_name": "HBoxModel",
      "state": {
       "children": [
        "IPY_MODEL_c6e6a93effa1466dacad8ce62ce07256",
        "IPY_MODEL_697b73ab9ece48a88a71a9f68886a295",
        "IPY_MODEL_141e95d5d1bc49fd99bcb8be15862942"
       ],
       "layout": "IPY_MODEL_a9ff5bfffaa1458cb72890e4b4f6dee8"
      }
     },
     "a9268e00c27942f69bdef4c3af089c98": {
      "model_module": "@jupyter-widgets/controls",
      "model_module_version": "2.0.0",
      "model_name": "HTMLModel",
      "state": {
       "layout": "IPY_MODEL_6c17d15f2ccb4ca2909aa407eaa66fd2",
       "style": "IPY_MODEL_cecc094996ba449f95c3c3ab48575012",
       "value": " 466k/? [00:00&lt;00:00, 4.83MB/s]"
      }
     },
     "a9ff5bfffaa1458cb72890e4b4f6dee8": {
      "model_module": "@jupyter-widgets/base",
      "model_module_version": "2.0.0",
      "model_name": "LayoutModel",
      "state": {}
     },
     "ab4a194e9013440ebb8efdd25b8ad94c": {
      "model_module": "@jupyter-widgets/controls",
      "model_module_version": "2.0.0",
      "model_name": "HTMLStyleModel",
      "state": {
       "description_width": "",
       "font_size": null,
       "text_color": null
      }
     },
     "af195b5745dc4c8f956b9e6c7032a346": {
      "model_module": "@jupyter-widgets/controls",
      "model_module_version": "2.0.0",
      "model_name": "ProgressStyleModel",
      "state": {
       "description_width": ""
      }
     },
     "b0ea432e5edd458f8ffe4969a8af97d8": {
      "model_module": "@jupyter-widgets/base",
      "model_module_version": "2.0.0",
      "model_name": "LayoutModel",
      "state": {}
     },
     "b1ade995f9564796837dd7e505793edf": {
      "model_module": "@jupyter-widgets/base",
      "model_module_version": "2.0.0",
      "model_name": "LayoutModel",
      "state": {}
     },
     "b2e638bf7ae244b29db165d0d1971cd0": {
      "model_module": "@jupyter-widgets/controls",
      "model_module_version": "2.0.0",
      "model_name": "HTMLModel",
      "state": {
       "layout": "IPY_MODEL_3eed179399e045e5851e834e6941b4cd",
       "style": "IPY_MODEL_2765e43ef2494cbd849c6ece1d41ad5c",
       "value": " 212/212 [00:00&lt;00:00, 13.8kB/s]"
      }
     },
     "b5d83dd87d214f7580878dd593be91ea": {
      "model_module": "@jupyter-widgets/controls",
      "model_module_version": "2.0.0",
      "model_name": "HTMLModel",
      "state": {
       "layout": "IPY_MODEL_9c6626b1c6934f48a9bb454ea247c154",
       "style": "IPY_MODEL_4807b87e5dc240d6b9d2fe45afdf16a1",
       "value": "special_tokens_map.json: 100%"
      }
     },
     "b98fb1d96fd440a8b213bcc67d3a7014": {
      "model_module": "@jupyter-widgets/controls",
      "model_module_version": "2.0.0",
      "model_name": "HTMLModel",
      "state": {
       "layout": "IPY_MODEL_2979a014432949269f5cce76ce1ba6e2",
       "style": "IPY_MODEL_d633a88194e2400397bb3a943d592e94",
       "value": "config.json: 100%"
      }
     },
     "bd679eca2cea4be68afb2f0b3aa38bc1": {
      "model_module": "@jupyter-widgets/base",
      "model_module_version": "2.0.0",
      "model_name": "LayoutModel",
      "state": {}
     },
     "be445ddea12b41c1bd70193f487c8b6a": {
      "model_module": "@jupyter-widgets/base",
      "model_module_version": "2.0.0",
      "model_name": "LayoutModel",
      "state": {
       "width": "20px"
      }
     },
     "c0e28a4bf17b471a97aeb5be2716689e": {
      "model_module": "@jupyter-widgets/controls",
      "model_module_version": "2.0.0",
      "model_name": "ProgressStyleModel",
      "state": {
       "description_width": ""
      }
     },
     "c6e6a93effa1466dacad8ce62ce07256": {
      "model_module": "@jupyter-widgets/controls",
      "model_module_version": "2.0.0",
      "model_name": "HTMLModel",
      "state": {
       "layout": "IPY_MODEL_12c642f1083e4ef59a8c20bd573833d4",
       "style": "IPY_MODEL_e3fe6c3b27334f0cbf73c7f55ea55bb8",
       "value": "vocab.txt: "
      }
     },
     "c9ae3bd39d8246219a013ae3b49decdc": {
      "model_module": "@jupyter-widgets/base",
      "model_module_version": "2.0.0",
      "model_name": "LayoutModel",
      "state": {}
     },
     "cc3de0629d53426681594e6572311462": {
      "model_module": "@jupyter-widgets/controls",
      "model_module_version": "2.0.0",
      "model_name": "HTMLStyleModel",
      "state": {
       "description_width": "",
       "font_size": null,
       "text_color": null
      }
     },
     "cc470ba1d1434ca8986dfa5052bf4f9a": {
      "model_module": "@jupyter-widgets/base",
      "model_module_version": "2.0.0",
      "model_name": "LayoutModel",
      "state": {
       "width": "20px"
      }
     },
     "ce28cd73c64b4fb88633be26f29bd7a5": {
      "model_module": "@jupyter-widgets/base",
      "model_module_version": "2.0.0",
      "model_name": "LayoutModel",
      "state": {}
     },
     "cecc094996ba449f95c3c3ab48575012": {
      "model_module": "@jupyter-widgets/controls",
      "model_module_version": "2.0.0",
      "model_name": "HTMLStyleModel",
      "state": {
       "description_width": "",
       "font_size": null,
       "text_color": null
      }
     },
     "cfccd6f1f49e47dba350116d72fff583": {
      "model_module": "@jupyter-widgets/base",
      "model_module_version": "2.0.0",
      "model_name": "LayoutModel",
      "state": {}
     },
     "d02b36717776430991b65e951163c582": {
      "model_module": "@jupyter-widgets/controls",
      "model_module_version": "2.0.0",
      "model_name": "HTMLModel",
      "state": {
       "layout": "IPY_MODEL_dab96e07cb234465b446eb2672137168",
       "style": "IPY_MODEL_573e9c181d8e462890d5ed575d9ce0f8",
       "value": "tokenizer_config.json: 100%"
      }
     },
     "d633a88194e2400397bb3a943d592e94": {
      "model_module": "@jupyter-widgets/controls",
      "model_module_version": "2.0.0",
      "model_name": "HTMLStyleModel",
      "state": {
       "description_width": "",
       "font_size": null,
       "text_color": null
      }
     },
     "d853586985584f35b7740b07e8a02314": {
      "model_module": "@jupyter-widgets/base",
      "model_module_version": "2.0.0",
      "model_name": "LayoutModel",
      "state": {}
     },
     "d8c89844a72e487781317e6e43442c0d": {
      "model_module": "@jupyter-widgets/controls",
      "model_module_version": "2.0.0",
      "model_name": "HTMLModel",
      "state": {
       "layout": "IPY_MODEL_b0ea432e5edd458f8ffe4969a8af97d8",
       "style": "IPY_MODEL_566a8932c8b048efab8c16d0ba1b6fe0",
       "value": "model.safetensors:   2%"
      }
     },
     "d940fd556bfd4efbbe5f4dab9117d05c": {
      "model_module": "@jupyter-widgets/controls",
      "model_module_version": "2.0.0",
      "model_name": "FloatProgressModel",
      "state": {
       "bar_style": "danger",
       "layout": "IPY_MODEL_d853586985584f35b7740b07e8a02314",
       "max": 437971872,
       "style": "IPY_MODEL_8bbce99bb8474eeda1ffcd98a48ffb33",
       "value": 20971520
      }
     },
     "dab96e07cb234465b446eb2672137168": {
      "model_module": "@jupyter-widgets/base",
      "model_module_version": "2.0.0",
      "model_name": "LayoutModel",
      "state": {}
     },
     "db6db2c323a643e7bc4a1546998730c7": {
      "model_module": "@jupyter-widgets/controls",
      "model_module_version": "2.0.0",
      "model_name": "ProgressStyleModel",
      "state": {
       "description_width": ""
      }
     },
     "dfb311553e744fd2a770da31f0e617d9": {
      "model_module": "@jupyter-widgets/base",
      "model_module_version": "2.0.0",
      "model_name": "LayoutModel",
      "state": {}
     },
     "e025aa6801f2402a8743cac9ded5f584": {
      "model_module": "@jupyter-widgets/controls",
      "model_module_version": "2.0.0",
      "model_name": "HBoxModel",
      "state": {
       "children": [
        "IPY_MODEL_d8c89844a72e487781317e6e43442c0d",
        "IPY_MODEL_9cdce7965ff74f139a122f9d1f0b2fca",
        "IPY_MODEL_34b30c86d03b4a3aaf935d23a52c3a06"
       ],
       "layout": "IPY_MODEL_68032a9122ad4667b7d90b59d13e4aad"
      }
     },
     "e0e127ae306f44af96a644904860fda8": {
      "model_module": "@jupyter-widgets/base",
      "model_module_version": "2.0.0",
      "model_name": "LayoutModel",
      "state": {}
     },
     "e25d208c320e4bda823212233c9b8ebf": {
      "model_module": "@jupyter-widgets/base",
      "model_module_version": "2.0.0",
      "model_name": "LayoutModel",
      "state": {
       "width": "20px"
      }
     },
     "e2c615d257cb4149b0115eb2458d9ff4": {
      "model_module": "@jupyter-widgets/controls",
      "model_module_version": "2.0.0",
      "model_name": "HTMLStyleModel",
      "state": {
       "description_width": "",
       "font_size": null,
       "text_color": null
      }
     },
     "e30843c53e55498bb3d3f43a4721ed90": {
      "model_module": "@jupyter-widgets/controls",
      "model_module_version": "2.0.0",
      "model_name": "ProgressStyleModel",
      "state": {
       "description_width": ""
      }
     },
     "e355594408fc45529b72a61bc5eb2a1a": {
      "model_module": "@jupyter-widgets/controls",
      "model_module_version": "2.0.0",
      "model_name": "HBoxModel",
      "state": {
       "children": [
        "IPY_MODEL_1c112c5397784c6ab22cdf69f9bb3893",
        "IPY_MODEL_d940fd556bfd4efbbe5f4dab9117d05c",
        "IPY_MODEL_5f9a61a2bb9d4d2fa34f0811ea3c5b7a"
       ],
       "layout": "IPY_MODEL_b1ade995f9564796837dd7e505793edf"
      }
     },
     "e37a7ea2bf4f425ca832953fefa325be": {
      "model_module": "@jupyter-widgets/base",
      "model_module_version": "2.0.0",
      "model_name": "LayoutModel",
      "state": {}
     },
     "e3ee7ce1f8784b72921ae0bc82b46d99": {
      "model_module": "@jupyter-widgets/base",
      "model_module_version": "2.0.0",
      "model_name": "LayoutModel",
      "state": {}
     },
     "e3fe6c3b27334f0cbf73c7f55ea55bb8": {
      "model_module": "@jupyter-widgets/controls",
      "model_module_version": "2.0.0",
      "model_name": "HTMLStyleModel",
      "state": {
       "description_width": "",
       "font_size": null,
       "text_color": null
      }
     },
     "e6f97c226aa04b3387bb6dc3bb0724a2": {
      "model_module": "@jupyter-widgets/controls",
      "model_module_version": "2.0.0",
      "model_name": "FloatProgressModel",
      "state": {
       "bar_style": "success",
       "layout": "IPY_MODEL_be445ddea12b41c1bd70193f487c8b6a",
       "max": 1,
       "style": "IPY_MODEL_67cad416c2b44539b997fc0c9ccbaf52",
       "value": 1
      }
     },
     "ed4b6624a03245f09631b2e9639b2c29": {
      "model_module": "@jupyter-widgets/controls",
      "model_module_version": "2.0.0",
      "model_name": "HTMLStyleModel",
      "state": {
       "description_width": "",
       "font_size": null,
       "text_color": null
      }
     },
     "ef3736dd0a0f494f82ac5679061960a3": {
      "model_module": "@jupyter-widgets/controls",
      "model_module_version": "2.0.0",
      "model_name": "HTMLStyleModel",
      "state": {
       "description_width": "",
       "font_size": null,
       "text_color": null
      }
     },
     "f6d2dde70bd1421ba02ee50583e3981c": {
      "model_module": "@jupyter-widgets/base",
      "model_module_version": "2.0.0",
      "model_name": "LayoutModel",
      "state": {}
     },
     "f717df2bc11044aabf53b670ba97afa5": {
      "model_module": "@jupyter-widgets/controls",
      "model_module_version": "2.0.0",
      "model_name": "HTMLStyleModel",
      "state": {
       "description_width": "",
       "font_size": null,
       "text_color": null
      }
     },
     "f779c783585446baa6a0864c83f0b12c": {
      "model_module": "@jupyter-widgets/controls",
      "model_module_version": "2.0.0",
      "model_name": "HTMLStyleModel",
      "state": {
       "description_width": "",
       "font_size": null,
       "text_color": null
      }
     },
     "fab2b38a08f2401f90b208b219c378b2": {
      "model_module": "@jupyter-widgets/controls",
      "model_module_version": "2.0.0",
      "model_name": "HTMLStyleModel",
      "state": {
       "description_width": "",
       "font_size": null,
       "text_color": null
      }
     },
     "ffad242d6d4b4e1ca15e8ed379a628b0": {
      "model_module": "@jupyter-widgets/base",
      "model_module_version": "2.0.0",
      "model_name": "LayoutModel",
      "state": {}
     }
    },
    "version_major": 2,
    "version_minor": 0
   }
  }
 },
 "nbformat": 4,
 "nbformat_minor": 5
}
